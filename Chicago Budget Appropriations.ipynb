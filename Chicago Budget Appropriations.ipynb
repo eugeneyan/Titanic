{
 "cells": [
  {
   "cell_type": "code",
   "execution_count": 3,
   "metadata": {
    "collapsed": true
   },
   "outputs": [],
   "source": [
    "import numpy as np\n",
    "import scipy as sc\n",
    "import pandas as pd\n",
    "import matplotlib.pyplot as plt\n",
    "%matplotlib inline"
   ]
  },
  {
   "cell_type": "code",
   "execution_count": 145,
   "metadata": {
    "collapsed": false
   },
   "outputs": [],
   "source": [
    "db2014 = pd.read_csv('chicago_2014_budget.csv')\n",
    "db2015 = pd.read_csv('chicago_2015_budget.csv')"
   ]
  },
  {
   "cell_type": "code",
   "execution_count": 25,
   "metadata": {
    "collapsed": false
   },
   "outputs": [
    {
     "data": {
      "text/html": [
       "<div style=\"max-height:1000px;max-width:1500px;overflow:auto;\">\n",
       "<table border=\"1\" class=\"dataframe\">\n",
       "  <thead>\n",
       "    <tr style=\"text-align: right;\">\n",
       "      <th></th>\n",
       "      <th>FUND TYPE</th>\n",
       "      <th>FUND CODE</th>\n",
       "      <th>FUND DESCRIPTION</th>\n",
       "      <th>DEPARTMENT NUMBER</th>\n",
       "      <th>DEPARTMENT DESCRIPTION</th>\n",
       "      <th>APPROPRIATION AUTHORITY</th>\n",
       "      <th>APPROPRIATION AUTHORITY DESCRIPTION</th>\n",
       "      <th>APPROPRIATION ACCOUNT</th>\n",
       "      <th>APPROPRIATION ACCOUNT DESCRIPTION</th>\n",
       "      <th>2014 ORDINANCE (AMOUNT $)</th>\n",
       "    </tr>\n",
       "  </thead>\n",
       "  <tbody>\n",
       "    <tr>\n",
       "      <th>0</th>\n",
       "      <td>Local</td>\n",
       "      <td>0100</td>\n",
       "      <td>CORPORATE FUND</td>\n",
       "      <td>1</td>\n",
       "      <td>OFFICE OF THE MAYOR</td>\n",
       "      <td>2005</td>\n",
       "      <td>OFFICE OF THE MAYOR</td>\n",
       "      <td>5</td>\n",
       "      <td>SALARIES AND WAGES - ON PAYROLL</td>\n",
       "      <td>$5511957.00</td>\n",
       "    </tr>\n",
       "    <tr>\n",
       "      <th>1</th>\n",
       "      <td>Local</td>\n",
       "      <td>0100</td>\n",
       "      <td>CORPORATE FUND</td>\n",
       "      <td>1</td>\n",
       "      <td>OFFICE OF THE MAYOR</td>\n",
       "      <td>2005</td>\n",
       "      <td>OFFICE OF THE MAYOR</td>\n",
       "      <td>126</td>\n",
       "      <td>OFFICE CONVENIENCES</td>\n",
       "      <td>$1200.00</td>\n",
       "    </tr>\n",
       "    <tr>\n",
       "      <th>2</th>\n",
       "      <td>Local</td>\n",
       "      <td>0100</td>\n",
       "      <td>CORPORATE FUND</td>\n",
       "      <td>1</td>\n",
       "      <td>OFFICE OF THE MAYOR</td>\n",
       "      <td>2005</td>\n",
       "      <td>OFFICE OF THE MAYOR</td>\n",
       "      <td>130</td>\n",
       "      <td>POSTAGE</td>\n",
       "      <td>$10000.00</td>\n",
       "    </tr>\n",
       "    <tr>\n",
       "      <th>3</th>\n",
       "      <td>Local</td>\n",
       "      <td>0100</td>\n",
       "      <td>CORPORATE FUND</td>\n",
       "      <td>1</td>\n",
       "      <td>OFFICE OF THE MAYOR</td>\n",
       "      <td>2005</td>\n",
       "      <td>OFFICE OF THE MAYOR</td>\n",
       "      <td>150</td>\n",
       "      <td>PUBLICATN &amp; REPRODT-OUT</td>\n",
       "      <td>$1000.00</td>\n",
       "    </tr>\n",
       "    <tr>\n",
       "      <th>4</th>\n",
       "      <td>Local</td>\n",
       "      <td>0100</td>\n",
       "      <td>CORPORATE FUND</td>\n",
       "      <td>1</td>\n",
       "      <td>OFFICE OF THE MAYOR</td>\n",
       "      <td>2005</td>\n",
       "      <td>OFFICE OF THE MAYOR</td>\n",
       "      <td>157</td>\n",
       "      <td>RENTAL EQUIPMENT AND SERVICES</td>\n",
       "      <td>$49500.00</td>\n",
       "    </tr>\n",
       "  </tbody>\n",
       "</table>\n",
       "</div>"
      ],
      "text/plain": [
       "  FUND TYPE FUND CODE FUND DESCRIPTION  DEPARTMENT NUMBER  \\\n",
       "0     Local      0100   CORPORATE FUND                  1   \n",
       "1     Local      0100   CORPORATE FUND                  1   \n",
       "2     Local      0100   CORPORATE FUND                  1   \n",
       "3     Local      0100   CORPORATE FUND                  1   \n",
       "4     Local      0100   CORPORATE FUND                  1   \n",
       "\n",
       "  DEPARTMENT DESCRIPTION  APPROPRIATION AUTHORITY  \\\n",
       "0    OFFICE OF THE MAYOR                     2005   \n",
       "1    OFFICE OF THE MAYOR                     2005   \n",
       "2    OFFICE OF THE MAYOR                     2005   \n",
       "3    OFFICE OF THE MAYOR                     2005   \n",
       "4    OFFICE OF THE MAYOR                     2005   \n",
       "\n",
       "  APPROPRIATION AUTHORITY DESCRIPTION  APPROPRIATION ACCOUNT  \\\n",
       "0                 OFFICE OF THE MAYOR                      5   \n",
       "1                 OFFICE OF THE MAYOR                    126   \n",
       "2                 OFFICE OF THE MAYOR                    130   \n",
       "3                 OFFICE OF THE MAYOR                    150   \n",
       "4                 OFFICE OF THE MAYOR                    157   \n",
       "\n",
       "  APPROPRIATION ACCOUNT DESCRIPTION 2014 ORDINANCE (AMOUNT $)  \n",
       "0   SALARIES AND WAGES - ON PAYROLL               $5511957.00  \n",
       "1               OFFICE CONVENIENCES                  $1200.00  \n",
       "2                           POSTAGE                 $10000.00  \n",
       "3           PUBLICATN & REPRODT-OUT                  $1000.00  \n",
       "4     RENTAL EQUIPMENT AND SERVICES                 $49500.00  "
      ]
     },
     "execution_count": 25,
     "metadata": {},
     "output_type": "execute_result"
    }
   ],
   "source": [
    "db2014.head()"
   ]
  },
  {
   "cell_type": "code",
   "execution_count": 26,
   "metadata": {
    "collapsed": false
   },
   "outputs": [
    {
     "data": {
      "text/html": [
       "<div style=\"max-height:1000px;max-width:1500px;overflow:auto;\">\n",
       "<table border=\"1\" class=\"dataframe\">\n",
       "  <thead>\n",
       "    <tr style=\"text-align: right;\">\n",
       "      <th></th>\n",
       "      <th>FUND TYPE</th>\n",
       "      <th>FUND CODE</th>\n",
       "      <th>FUND DESCRIPTION</th>\n",
       "      <th>DEPARTMENT NUMBER</th>\n",
       "      <th>DEPARTMENT DESCRIPTION</th>\n",
       "      <th>APPROPRIATION AUTHORITY</th>\n",
       "      <th>APPROPRIATION AUTHORITY DESCRIPTION</th>\n",
       "      <th>APPROPRIATION ACCOUNT</th>\n",
       "      <th>APPROPRIATION ACCOUNT DESCRIPTION</th>\n",
       "      <th>2015 ORDINANCE (AMOUNT $)</th>\n",
       "    </tr>\n",
       "  </thead>\n",
       "  <tbody>\n",
       "    <tr>\n",
       "      <th>0</th>\n",
       "      <td>LOCAL</td>\n",
       "      <td>0100</td>\n",
       "      <td>CORPORATE FUND</td>\n",
       "      <td>1</td>\n",
       "      <td>OFFICE OF THE MAYOR</td>\n",
       "      <td>2005</td>\n",
       "      <td>OFFICE OF THE MAYOR</td>\n",
       "      <td>5</td>\n",
       "      <td>SALARIES AND WAGES - ON PAYROLL</td>\n",
       "      <td>$5550657.00</td>\n",
       "    </tr>\n",
       "    <tr>\n",
       "      <th>1</th>\n",
       "      <td>LOCAL</td>\n",
       "      <td>0100</td>\n",
       "      <td>CORPORATE FUND</td>\n",
       "      <td>1</td>\n",
       "      <td>OFFICE OF THE MAYOR</td>\n",
       "      <td>2005</td>\n",
       "      <td>OFFICE OF THE MAYOR</td>\n",
       "      <td>126</td>\n",
       "      <td>OFFICE CONVENIENCES</td>\n",
       "      <td>$1000.00</td>\n",
       "    </tr>\n",
       "    <tr>\n",
       "      <th>2</th>\n",
       "      <td>LOCAL</td>\n",
       "      <td>0100</td>\n",
       "      <td>CORPORATE FUND</td>\n",
       "      <td>1</td>\n",
       "      <td>OFFICE OF THE MAYOR</td>\n",
       "      <td>2005</td>\n",
       "      <td>OFFICE OF THE MAYOR</td>\n",
       "      <td>130</td>\n",
       "      <td>POSTAGE</td>\n",
       "      <td>$5019.00</td>\n",
       "    </tr>\n",
       "    <tr>\n",
       "      <th>3</th>\n",
       "      <td>LOCAL</td>\n",
       "      <td>0100</td>\n",
       "      <td>CORPORATE FUND</td>\n",
       "      <td>1</td>\n",
       "      <td>OFFICE OF THE MAYOR</td>\n",
       "      <td>2005</td>\n",
       "      <td>OFFICE OF THE MAYOR</td>\n",
       "      <td>150</td>\n",
       "      <td>PUBLICATN &amp; REPRODT-OUT</td>\n",
       "      <td>$1000.00</td>\n",
       "    </tr>\n",
       "    <tr>\n",
       "      <th>4</th>\n",
       "      <td>LOCAL</td>\n",
       "      <td>0100</td>\n",
       "      <td>CORPORATE FUND</td>\n",
       "      <td>1</td>\n",
       "      <td>OFFICE OF THE MAYOR</td>\n",
       "      <td>2005</td>\n",
       "      <td>OFFICE OF THE MAYOR</td>\n",
       "      <td>157</td>\n",
       "      <td>RENTAL EQUIPMENT AND SERVICES</td>\n",
       "      <td>$49500.00</td>\n",
       "    </tr>\n",
       "  </tbody>\n",
       "</table>\n",
       "</div>"
      ],
      "text/plain": [
       "  FUND TYPE FUND CODE FUND DESCRIPTION  DEPARTMENT NUMBER  \\\n",
       "0     LOCAL      0100   CORPORATE FUND                  1   \n",
       "1     LOCAL      0100   CORPORATE FUND                  1   \n",
       "2     LOCAL      0100   CORPORATE FUND                  1   \n",
       "3     LOCAL      0100   CORPORATE FUND                  1   \n",
       "4     LOCAL      0100   CORPORATE FUND                  1   \n",
       "\n",
       "  DEPARTMENT DESCRIPTION  APPROPRIATION AUTHORITY  \\\n",
       "0    OFFICE OF THE MAYOR                     2005   \n",
       "1    OFFICE OF THE MAYOR                     2005   \n",
       "2    OFFICE OF THE MAYOR                     2005   \n",
       "3    OFFICE OF THE MAYOR                     2005   \n",
       "4    OFFICE OF THE MAYOR                     2005   \n",
       "\n",
       "  APPROPRIATION AUTHORITY DESCRIPTION  APPROPRIATION ACCOUNT  \\\n",
       "0                 OFFICE OF THE MAYOR                      5   \n",
       "1                 OFFICE OF THE MAYOR                    126   \n",
       "2                 OFFICE OF THE MAYOR                    130   \n",
       "3                 OFFICE OF THE MAYOR                    150   \n",
       "4                 OFFICE OF THE MAYOR                    157   \n",
       "\n",
       "  APPROPRIATION ACCOUNT DESCRIPTION 2015 ORDINANCE (AMOUNT $)  \n",
       "0   SALARIES AND WAGES - ON PAYROLL               $5550657.00  \n",
       "1               OFFICE CONVENIENCES                  $1000.00  \n",
       "2                           POSTAGE                  $5019.00  \n",
       "3           PUBLICATN & REPRODT-OUT                  $1000.00  \n",
       "4     RENTAL EQUIPMENT AND SERVICES                 $49500.00  "
      ]
     },
     "execution_count": 26,
     "metadata": {},
     "output_type": "execute_result"
    }
   ],
   "source": [
    "db2015.head()"
   ]
  },
  {
   "cell_type": "code",
   "execution_count": 146,
   "metadata": {
    "collapsed": false
   },
   "outputs": [],
   "source": [
    "# keep only necessary columns\n",
    "db2014 = db2014[['DEPARTMENT NUMBER', 'DEPARTMENT DESCRIPTION', '2014 ORDINANCE (AMOUNT $)' ]]\n",
    "db2015 = db2015[['DEPARTMENT NUMBER', 'DEPARTMENT DESCRIPTION', '2015 ORDINANCE (AMOUNT $)' ]]"
   ]
  },
  {
   "cell_type": "code",
   "execution_count": 88,
   "metadata": {
    "collapsed": false
   },
   "outputs": [],
   "source": [
    "db2014['AMOUNT'] = db2014['2014 ORDINANCE (AMOUNT $)'].astype(str)  # convert to str\n",
    "db2014['AMOUNT'] = db2014['AMOUNT'].str.replace('$', '')  # remove '$'\n",
    "db2014['AMOUNT'] = db2014['AMOUNT'].astype(float)  # convert to float"
   ]
  },
  {
   "cell_type": "code",
   "execution_count": 147,
   "metadata": {
    "collapsed": false
   },
   "outputs": [],
   "source": [
    "# in a single line\n",
    "db2014['AMOUNT_2014'] = db2014['2014 ORDINANCE (AMOUNT $)'].astype(str).str.replace('$', '').astype(float)\n",
    "db2015['AMOUNT_2015'] = db2015['2015 ORDINANCE (AMOUNT $)'].astype(str).str.replace('$', '').astype(float)"
   ]
  },
  {
   "cell_type": "code",
   "execution_count": 95,
   "metadata": {
    "collapsed": false
   },
   "outputs": [
    {
     "data": {
      "text/plain": [
       "0    5511957\n",
       "1       1200\n",
       "2      10000\n",
       "3       1000\n",
       "4      49500\n",
       "Name: AMOUNT, dtype: float64"
      ]
     },
     "execution_count": 95,
     "metadata": {},
     "output_type": "execute_result"
    }
   ],
   "source": [
    "db2014['AMOUNT'].head()"
   ]
  },
  {
   "cell_type": "code",
   "execution_count": 98,
   "metadata": {
    "collapsed": false
   },
   "outputs": [
    {
     "data": {
      "text/html": [
       "<div style=\"max-height:1000px;max-width:1500px;overflow:auto;\">\n",
       "<table border=\"1\" class=\"dataframe\">\n",
       "  <thead>\n",
       "    <tr style=\"text-align: right;\">\n",
       "      <th></th>\n",
       "      <th>DEPARTMENT NUMBER</th>\n",
       "      <th>DEPARTMENT DESCRIPTION</th>\n",
       "      <th>2015 ORDINANCE (AMOUNT $)</th>\n",
       "      <th>AMOUNT</th>\n",
       "    </tr>\n",
       "  </thead>\n",
       "  <tbody>\n",
       "    <tr>\n",
       "      <th>0</th>\n",
       "      <td>1</td>\n",
       "      <td>OFFICE OF THE MAYOR</td>\n",
       "      <td>$5550657.00</td>\n",
       "      <td>5550657</td>\n",
       "    </tr>\n",
       "    <tr>\n",
       "      <th>1</th>\n",
       "      <td>1</td>\n",
       "      <td>OFFICE OF THE MAYOR</td>\n",
       "      <td>$1000.00</td>\n",
       "      <td>1000</td>\n",
       "    </tr>\n",
       "    <tr>\n",
       "      <th>2</th>\n",
       "      <td>1</td>\n",
       "      <td>OFFICE OF THE MAYOR</td>\n",
       "      <td>$5019.00</td>\n",
       "      <td>5019</td>\n",
       "    </tr>\n",
       "    <tr>\n",
       "      <th>3</th>\n",
       "      <td>1</td>\n",
       "      <td>OFFICE OF THE MAYOR</td>\n",
       "      <td>$1000.00</td>\n",
       "      <td>1000</td>\n",
       "    </tr>\n",
       "    <tr>\n",
       "      <th>4</th>\n",
       "      <td>1</td>\n",
       "      <td>OFFICE OF THE MAYOR</td>\n",
       "      <td>$49500.00</td>\n",
       "      <td>49500</td>\n",
       "    </tr>\n",
       "  </tbody>\n",
       "</table>\n",
       "</div>"
      ],
      "text/plain": [
       "   DEPARTMENT NUMBER DEPARTMENT DESCRIPTION 2015 ORDINANCE (AMOUNT $)   AMOUNT\n",
       "0                  1    OFFICE OF THE MAYOR               $5550657.00  5550657\n",
       "1                  1    OFFICE OF THE MAYOR                  $1000.00     1000\n",
       "2                  1    OFFICE OF THE MAYOR                  $5019.00     5019\n",
       "3                  1    OFFICE OF THE MAYOR                  $1000.00     1000\n",
       "4                  1    OFFICE OF THE MAYOR                 $49500.00    49500"
      ]
     },
     "execution_count": 98,
     "metadata": {},
     "output_type": "execute_result"
    }
   ],
   "source": [
    "db2015.head()"
   ]
  },
  {
   "cell_type": "code",
   "execution_count": 148,
   "metadata": {
    "collapsed": false
   },
   "outputs": [],
   "source": [
    "# group by department\n",
    "db2014 = db2014.groupby(['DEPARTMENT NUMBER'])\n",
    "db2015 = db2015.groupby(['DEPARTMENT NUMBER'])"
   ]
  },
  {
   "cell_type": "code",
   "execution_count": 149,
   "metadata": {
    "collapsed": false
   },
   "outputs": [
    {
     "data": {
      "text/html": [
       "<div style=\"max-height:1000px;max-width:1500px;overflow:auto;\">\n",
       "<table border=\"1\" class=\"dataframe\">\n",
       "  <thead>\n",
       "    <tr style=\"text-align: right;\">\n",
       "      <th></th>\n",
       "      <th>DEPARTMENT NUMBER</th>\n",
       "      <th>AMOUNT_2014</th>\n",
       "    </tr>\n",
       "  </thead>\n",
       "  <tbody>\n",
       "    <tr>\n",
       "      <th>0</th>\n",
       "      <td>1</td>\n",
       "      <td>9261592</td>\n",
       "    </tr>\n",
       "    <tr>\n",
       "      <th>1</th>\n",
       "      <td>3</td>\n",
       "      <td>5769239</td>\n",
       "    </tr>\n",
       "    <tr>\n",
       "      <th>2</th>\n",
       "      <td>5</td>\n",
       "      <td>9063442</td>\n",
       "    </tr>\n",
       "    <tr>\n",
       "      <th>3</th>\n",
       "      <td>6</td>\n",
       "      <td>36032574</td>\n",
       "    </tr>\n",
       "    <tr>\n",
       "      <th>4</th>\n",
       "      <td>15</td>\n",
       "      <td>26834029</td>\n",
       "    </tr>\n",
       "  </tbody>\n",
       "</table>\n",
       "</div>"
      ],
      "text/plain": [
       "   DEPARTMENT NUMBER  AMOUNT_2014\n",
       "0                  1      9261592\n",
       "1                  3      5769239\n",
       "2                  5      9063442\n",
       "3                  6     36032574\n",
       "4                 15     26834029"
      ]
     },
     "execution_count": 149,
     "metadata": {},
     "output_type": "execute_result"
    }
   ],
   "source": [
    "db2014_agg = db2014.aggregate(np.sum).reset_index()\n",
    "db2014_agg.head()"
   ]
  },
  {
   "cell_type": "code",
   "execution_count": 150,
   "metadata": {
    "collapsed": false
   },
   "outputs": [
    {
     "data": {
      "text/html": [
       "<div style=\"max-height:1000px;max-width:1500px;overflow:auto;\">\n",
       "<table border=\"1\" class=\"dataframe\">\n",
       "  <thead>\n",
       "    <tr style=\"text-align: right;\">\n",
       "      <th></th>\n",
       "      <th>DEPARTMENT NUMBER</th>\n",
       "      <th>AMOUNT_2015</th>\n",
       "    </tr>\n",
       "  </thead>\n",
       "  <tbody>\n",
       "    <tr>\n",
       "      <th>0</th>\n",
       "      <td>1</td>\n",
       "      <td>9534180</td>\n",
       "    </tr>\n",
       "    <tr>\n",
       "      <th>1</th>\n",
       "      <td>3</td>\n",
       "      <td>5956603</td>\n",
       "    </tr>\n",
       "    <tr>\n",
       "      <th>2</th>\n",
       "      <td>5</td>\n",
       "      <td>28516405</td>\n",
       "    </tr>\n",
       "    <tr>\n",
       "      <th>3</th>\n",
       "      <td>6</td>\n",
       "      <td>38399292</td>\n",
       "    </tr>\n",
       "    <tr>\n",
       "      <th>4</th>\n",
       "      <td>15</td>\n",
       "      <td>26922907</td>\n",
       "    </tr>\n",
       "  </tbody>\n",
       "</table>\n",
       "</div>"
      ],
      "text/plain": [
       "   DEPARTMENT NUMBER  AMOUNT_2015\n",
       "0                  1      9534180\n",
       "1                  3      5956603\n",
       "2                  5     28516405\n",
       "3                  6     38399292\n",
       "4                 15     26922907"
      ]
     },
     "execution_count": 150,
     "metadata": {},
     "output_type": "execute_result"
    }
   ],
   "source": [
    "db2015_agg = db2015.aggregate(np.sum).reset_index()\n",
    "db2015_agg.head()"
   ]
  },
  {
   "cell_type": "code",
   "execution_count": 151,
   "metadata": {
    "collapsed": false
   },
   "outputs": [],
   "source": [
    "# merge them into one list\n",
    "compare = db2014_agg.merge(db2015_agg, on = 'DEPARTMENT NUMBER')"
   ]
  },
  {
   "cell_type": "code",
   "execution_count": 152,
   "metadata": {
    "collapsed": false
   },
   "outputs": [],
   "source": [
    "# rename columns\n",
    "compare.rename(columns = {'DEPARTMENT NUMBER' : 'DEPT'}, inplace = True)"
   ]
  },
  {
   "cell_type": "code",
   "execution_count": 153,
   "metadata": {
    "collapsed": false
   },
   "outputs": [],
   "source": [
    "# add difference column\n",
    "compare['DIFF'] = compare.iloc[:, 2] - compare.iloc[:, 1]"
   ]
  },
  {
   "cell_type": "code",
   "execution_count": 155,
   "metadata": {
    "collapsed": false
   },
   "outputs": [
    {
     "data": {
      "text/html": [
       "<div style=\"max-height:1000px;max-width:1500px;overflow:auto;\">\n",
       "<table border=\"1\" class=\"dataframe\">\n",
       "  <thead>\n",
       "    <tr style=\"text-align: right;\">\n",
       "      <th></th>\n",
       "      <th>DEPT</th>\n",
       "      <th>AMOUNT_2014</th>\n",
       "      <th>AMOUNT_2015</th>\n",
       "      <th>DIFF</th>\n",
       "    </tr>\n",
       "  </thead>\n",
       "  <tbody>\n",
       "    <tr>\n",
       "      <th>0</th>\n",
       "      <td>1</td>\n",
       "      <td>9261592</td>\n",
       "      <td>9534180</td>\n",
       "      <td>272588</td>\n",
       "    </tr>\n",
       "    <tr>\n",
       "      <th>1</th>\n",
       "      <td>3</td>\n",
       "      <td>5769239</td>\n",
       "      <td>5956603</td>\n",
       "      <td>187364</td>\n",
       "    </tr>\n",
       "    <tr>\n",
       "      <th>2</th>\n",
       "      <td>5</td>\n",
       "      <td>9063442</td>\n",
       "      <td>28516405</td>\n",
       "      <td>19452963</td>\n",
       "    </tr>\n",
       "    <tr>\n",
       "      <th>3</th>\n",
       "      <td>6</td>\n",
       "      <td>36032574</td>\n",
       "      <td>38399292</td>\n",
       "      <td>2366718</td>\n",
       "    </tr>\n",
       "    <tr>\n",
       "      <th>4</th>\n",
       "      <td>15</td>\n",
       "      <td>26834029</td>\n",
       "      <td>26922907</td>\n",
       "      <td>88878</td>\n",
       "    </tr>\n",
       "  </tbody>\n",
       "</table>\n",
       "</div>"
      ],
      "text/plain": [
       "   DEPT  AMOUNT_2014  AMOUNT_2015      DIFF\n",
       "0     1      9261592      9534180    272588\n",
       "1     3      5769239      5956603    187364\n",
       "2     5      9063442     28516405  19452963\n",
       "3     6     36032574     38399292   2366718\n",
       "4    15     26834029     26922907     88878"
      ]
     },
     "execution_count": 155,
     "metadata": {},
     "output_type": "execute_result"
    }
   ],
   "source": [
    "compare.head()"
   ]
  },
  {
   "cell_type": "code",
   "execution_count": 175,
   "metadata": {
    "collapsed": false
   },
   "outputs": [
    {
     "data": {
      "text/plain": [
       "<matplotlib.legend.Legend at 0x1076094d0>"
      ]
     },
     "execution_count": 175,
     "metadata": {},
     "output_type": "execute_result"
    },
    {
     "data": {
      "image/png": "[encoded data removed]",
      "text/plain": [
       "<matplotlib.figure.Figure at 0x1075d9610>"
      ]
     },
     "metadata": {},
     "output_type": "display_data"
    }
   ],
   "source": [
    "# creating a plot\n",
    "labels = compare['DEPT']\n",
    "b2014 = compare['AMOUNT_2014']\n",
    "b2015 = compare['AMOUNT_2015']\n",
    "\n",
    "ind = np.arange(len(b2014))\n",
    "width = 1\n",
    "\n",
    "fig, ax = plt.subplots(figsize=(15,15))\n",
    "\n",
    "r1 = plt.bar(ind * 3, b2014, width, color = 'r')\n",
    "r2 = plt.bar(ind * 3 + 1, b2015, width, color = 'b')\n",
    "\n",
    "ax.set_ylabel('Money Appropriated')\n",
    "ax.set_title('Comparison of 2014 and 2015 Budget Appropriation for Chicago')\n",
    "ax.set_xticks((3*ind)+width)\n",
    "ax.set_xticklabels(labels)\n",
    "\n",
    "ax.legend((r1[0], r2[0]), ('2014', '2015'))\n"
   ]
  },
  {
   "cell_type": "code",
   "execution_count": 170,
   "metadata": {
    "collapsed": false
   },
   "outputs": [],
   "source": [
    "plt.subplots?"
   ]
  },
  {
   "cell_type": "code",
   "execution_count": null,
   "metadata": {
    "collapsed": true
   },
   "outputs": [],
   "source": []
  }
 ],
 "metadata": {
  "kernelspec": {
   "display_name": "Python 2",
   "language": "python",
   "name": "python2"
  },
  "language_info": {
   "codemirror_mode": {
    "name": "ipython",
    "version": 2
   },
   "file_extension": ".py",
   "mimetype": "text/x-python",
   "name": "python",
   "nbconvert_exporter": "python",
   "pygments_lexer": "ipython2",
   "version": "2.7.6"
  }
 },
 "nbformat": 4,
 "nbformat_minor": 0
}
