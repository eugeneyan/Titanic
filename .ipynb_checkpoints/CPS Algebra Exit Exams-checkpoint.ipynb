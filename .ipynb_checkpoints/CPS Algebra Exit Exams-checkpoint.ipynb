{
 "cells": [
  {
   "cell_type": "markdown",
   "metadata": {},
   "source": [
    "### Import modules"
   ]
  },
  {
   "cell_type": "code",
   "execution_count": 1,
   "metadata": {
    "collapsed": true
   },
   "outputs": [],
   "source": [
    "import pandas as pd\n",
    "%matplotlib inline"
   ]
  },
  {
   "cell_type": "markdown",
   "metadata": {},
   "source": [
    "### read data"
   ]
  },
  {
   "cell_type": "code",
   "execution_count": 4,
   "metadata": {
    "collapsed": true
   },
   "outputs": [],
   "source": [
    "db = pd.read_csv('algexit2009.csv')"
   ]
  },
  {
   "cell_type": "code",
   "execution_count": 5,
   "metadata": {
    "collapsed": false
   },
   "outputs": [
    {
     "data": {
      "text/html": [
       "<div style=\"max-height:1000px;max-width:1500px;overflow:auto;\">\n",
       "<table border=\"1\" class=\"dataframe\">\n",
       "  <thead>\n",
       "    <tr style=\"text-align: right;\">\n",
       "      <th></th>\n",
       "      <th>school_name</th>\n",
       "      <th>total_highpass</th>\n",
       "      <th>total_pass</th>\n",
       "      <th>total</th>\n",
       "    </tr>\n",
       "  </thead>\n",
       "  <tbody>\n",
       "    <tr>\n",
       "      <th>0</th>\n",
       "      <td>ALBANY PARK</td>\n",
       "      <td>1</td>\n",
       "      <td>15</td>\n",
       "      <td>34</td>\n",
       "    </tr>\n",
       "    <tr>\n",
       "      <th>1</th>\n",
       "      <td>ALCOTT</td>\n",
       "      <td>1</td>\n",
       "      <td>9</td>\n",
       "      <td>27</td>\n",
       "    </tr>\n",
       "    <tr>\n",
       "      <th>2</th>\n",
       "      <td>ALTGELD</td>\n",
       "      <td>0</td>\n",
       "      <td>6</td>\n",
       "      <td>11</td>\n",
       "    </tr>\n",
       "    <tr>\n",
       "      <th>3</th>\n",
       "      <td>AMES</td>\n",
       "      <td>0</td>\n",
       "      <td>3</td>\n",
       "      <td>61</td>\n",
       "    </tr>\n",
       "    <tr>\n",
       "      <th>4</th>\n",
       "      <td>ANDERSEN</td>\n",
       "      <td>0</td>\n",
       "      <td>6</td>\n",
       "      <td>15</td>\n",
       "    </tr>\n",
       "  </tbody>\n",
       "</table>\n",
       "</div>"
      ],
      "text/plain": [
       "    school_name  total_highpass  total_pass  total\n",
       "0  ALBANY PARK                1          15     34\n",
       "1        ALCOTT               1           9     27\n",
       "2       ALTGELD               0           6     11\n",
       "3          AMES               0           3     61\n",
       "4     ANDERSEN                0           6     15"
      ]
     },
     "execution_count": 5,
     "metadata": {},
     "output_type": "execute_result"
    }
   ],
   "source": [
    "db.head()"
   ]
  },
  {
   "cell_type": "code",
   "execution_count": 6,
   "metadata": {
    "collapsed": false
   },
   "outputs": [
    {
     "data": {
      "text/plain": [
       "array([['ALBANY PARK ', 1, 15, 34],\n",
       "       ['ALCOTT', 1, 9, 27],\n",
       "       ['ALTGELD', 0, 6, 11],\n",
       "       ['AMES', 0, 3, 61],\n",
       "       ['ANDERSEN ', 0, 6, 15],\n",
       "       ['ARIEL', 0, 11, 30],\n",
       "       ['BARTON', 0, 1, 10],\n",
       "       ['BATEMAN', 4, 9, 31],\n",
       "       ['BEASLEY', 0, 5, 23],\n",
       "       ['BEAUBIEN', 0, 11, 14],\n",
       "       ['BEETHOVEN', 1, 6, 11],\n",
       "       ['BELDING', 0, 6, 9],\n",
       "       ['BELL', 8, 30, 60],\n",
       "       ['BLACK', 0, 9, 11],\n",
       "       ['BOND', 0, 0, 10],\n",
       "       ['BOONE', 2, 7, 12],\n",
       "       ['BRENNEMANN', 0, 1, 7],\n",
       "       ['BUDLONG', 0, 6, 21],\n",
       "       ['BURLEY', 1, 7, 23],\n",
       "       ['BURNSIDE', 0, 0, 13],\n",
       "       ['BURROUGHS', 0, 2, 21],\n",
       "       ['BYRNE', 0, 5, 13],\n",
       "       ['CALHOUN NORTH', 0, 1, 17],\n",
       "       ['CANTER MIDDLE', 0, 4, 30],\n",
       "       ['CANTY', 2, 14, 20],\n",
       "       ['CARROLL', 0, 1, 7],\n",
       "       ['CARTER', 0, 2, 16],\n",
       "       ['CASALS', 0, 1, 22],\n",
       "       ['CASTELLANOS', 2, 3, 6],\n",
       "       ['CHAPPELL', 1, 1, 13],\n",
       "       ['CHICAGO ACADEMY ES', 1, 13, 37],\n",
       "       ['CLARK, M.', 0, 1, 14],\n",
       "       ['CLISSOLD', 0, 3, 24],\n",
       "       ['CROWN', 0, 1, 15],\n",
       "       ['CUFFE', 0, 6, 20],\n",
       "       ['DALEY', 2, 2, 9],\n",
       "       ['DAVIS', 0, 2, 21],\n",
       "       ['DE DIEGO ', 1, 12, 60],\n",
       "       ['DISNEY ', 2, 26, 41],\n",
       "       ['DODGE', 0, 5, 14],\n",
       "       ['DOOLITTLE EAST', 0, 0, 12],\n",
       "       ['EBERHART', 0, 0, 33],\n",
       "       ['EDISON ', 5, 17, 31],\n",
       "       ['ERICSON', 0, 0, 22],\n",
       "       ['EVERGREEN ', 4, 16, 30],\n",
       "       ['FINKL', 0, 4, 10],\n",
       "       ['GAGE PARK H S', 0, 4, 25],\n",
       "       ['GALE COMM ACAD', 0, 1, 16],\n",
       "       ['GALILEO SCHOLASTIC', 9, 4, 13],\n",
       "       ['GARVY', 2, 7, 28],\n",
       "       ['GOETHE', 1, 5, 15],\n",
       "       ['GOUDY', 3, 17, 30],\n",
       "       ['GRAHAM', 1, 6, 18],\n",
       "       ['GRAY', 11, 13, 29],\n",
       "       ['GUNSAULUS', 1, 13, 16],\n",
       "       ['H B  STOWE', 0, 1, 8],\n",
       "       ['HAINES', 4, 17, 22],\n",
       "       ['HAMMOND', 0, 3, 18],\n",
       "       ['HANSON PARK', 1, 12, 25],\n",
       "       ['HARLAN COMM ACAD', 0, 1, 26],\n",
       "       ['HAWTHORNE', 21, 19, 61],\n",
       "       ['HEALY', 7, 15, 26],\n",
       "       ['HEDGES', 1, 1, 10],\n",
       "       ['HOLMES', 0, 3, 11],\n",
       "       ['HURLEY', 0, 5, 10],\n",
       "       ['INTER-AMERICAN', 5, 14, 22],\n",
       "       ['JAMIESON', 2, 14, 36],\n",
       "       ['JENNER', 0, 7, 18],\n",
       "       ['KELLER ', 0, 7, 26],\n",
       "       ['KELLOGG', 3, 6, 12],\n",
       "       ['KENWOOD ', 18, 52, 82],\n",
       "       ['KERSHAW', 0, 0, 5],\n",
       "       ['KINZIE ', 0, 15, 24],\n",
       "       ['LENART', 4, 10, 26],\n",
       "       ['LIBBY', 0, 1, 6],\n",
       "       ['LINCOLN', 4, 21, 28],\n",
       "       ['LINNE', 0, 5, 26],\n",
       "       ['LITTLE VILLAGE', 4, 15, 31],\n",
       "       ['LOCKE', 2, 21, 72],\n",
       "       ['LYON', 7, 25, 36],\n",
       "       ['MADERO ', 1, 6, 15],\n",
       "       ['MANIERRE', 0, 2, 8],\n",
       "       ['MCCORKLE', 0, 2, 9],\n",
       "       ['MCNAIR ACAD CTR', 0, 0, 10],\n",
       "       ['MORGAN PARK H S', 0, 14, 56],\n",
       "       ['MORRILL', 2, 6, 22],\n",
       "       ['NETTELHORST', 0, 1, 7],\n",
       "       ['NEW SULLIVAN', 0, 0, 5],\n",
       "       ['NEWBERRY ', 0, 1, 59],\n",
       "       ['NICHOLSON', 0, 1, 10],\n",
       "       ['NORTHWEST MIDDLE', 0, 11, 25],\n",
       "       ['NORWOOD PARK', 6, 13, 31],\n",
       "       ['OGDEN', 4, 15, 56],\n",
       "       ['ORIOLE PARK', 8, 18, 43],\n",
       "       ['OWEN', 0, 1, 9],\n",
       "       ['PADEREWSKI', 0, 0, 28],\n",
       "       ['PALMER', 4, 5, 26],\n",
       "       ['PARKER ', 0, 0, 11],\n",
       "       ['PECK', 0, 5, 14],\n",
       "       ['PERSHING WEST', 0, 8, 14],\n",
       "       ['PRUSSING', 0, 7, 27],\n",
       "       ['PULASKI', 0, 13, 47],\n",
       "       ['ROQUE DE DUPREY', 0, 4, 11],\n",
       "       ['RUIZ', 1, 8, 33],\n",
       "       ['SABIN', 1, 8, 30],\n",
       "       ['SAUCEDO', 0, 2, 30],\n",
       "       ['SAYRE', 2, 8, 30],\n",
       "       ['SCAMMON', 1, 5, 27],\n",
       "       ['SEWARD', 0, 5, 14],\n",
       "       ['SHERIDAN', 2, 6, 15],\n",
       "       ['SHERMAN', 0, 2, 7],\n",
       "       ['SHERWOOD', 0, 2, 10],\n",
       "       ['SHOOP', 0, 6, 6],\n",
       "       ['SMITH', 0, 1, 7],\n",
       "       ['SMYSER', 0, 14, 33],\n",
       "       ['SONGHAI', 0, 0, 4],\n",
       "       ['STEWART', 0, 3, 8],\n",
       "       ['STOCKTON', 0, 9, 11],\n",
       "       ['STONE ', 4, 8, 31],\n",
       "       ['SUMNER', 0, 3, 11],\n",
       "       ['TAFT H S', 11, 41, 74],\n",
       "       ['TALCOTT', 0, 0, 15],\n",
       "       ['TARKINGTON ', 0, 10, 14],\n",
       "       ['TAYLOR', 0, 0, 12],\n",
       "       ['THORP O A', 13, 15, 28],\n",
       "       ['TONTI', 0, 0, 32],\n",
       "       ['VOLTA', 2, 11, 23],\n",
       "       ['VON HUMBOLDT', 0, 1, 6],\n",
       "       ['WASHINGTON G', 0, 4, 28],\n",
       "       ['WELLS PREP', 0, 1, 10],\n",
       "       ['WILLIAMS PREP', 0, 0, 7],\n",
       "       ['WILLIAMS PREP MED', 0, 2, 26],\n",
       "       ['YATES', 4, 14, 20],\n",
       "       ['YOUNG, W ', 34, 81, 125],\n",
       "       ['ZAPATA ', 0, 9, 19]], dtype=object)"
      ]
     },
     "execution_count": 6,
     "metadata": {},
     "output_type": "execute_result"
    }
   ],
   "source": [
    "db.values"
   ]
  },
  {
   "cell_type": "code",
   "execution_count": 7,
   "metadata": {
    "collapsed": false
   },
   "outputs": [
    {
     "data": {
      "text/html": [
       "<div style=\"max-height:1000px;max-width:1500px;overflow:auto;\">\n",
       "<table border=\"1\" class=\"dataframe\">\n",
       "  <thead>\n",
       "    <tr style=\"text-align: right;\">\n",
       "      <th></th>\n",
       "      <th>school_name</th>\n",
       "      <th>total_highpass</th>\n",
       "      <th>total_pass</th>\n",
       "      <th>total</th>\n",
       "    </tr>\n",
       "  </thead>\n",
       "  <tbody>\n",
       "    <tr>\n",
       "      <th>0</th>\n",
       "      <td>ALBANY PARK</td>\n",
       "      <td>1</td>\n",
       "      <td>15</td>\n",
       "      <td>34</td>\n",
       "    </tr>\n",
       "    <tr>\n",
       "      <th>1</th>\n",
       "      <td>ALCOTT</td>\n",
       "      <td>1</td>\n",
       "      <td>9</td>\n",
       "      <td>27</td>\n",
       "    </tr>\n",
       "    <tr>\n",
       "      <th>2</th>\n",
       "      <td>ALTGELD</td>\n",
       "      <td>0</td>\n",
       "      <td>6</td>\n",
       "      <td>11</td>\n",
       "    </tr>\n",
       "    <tr>\n",
       "      <th>3</th>\n",
       "      <td>AMES</td>\n",
       "      <td>0</td>\n",
       "      <td>3</td>\n",
       "      <td>61</td>\n",
       "    </tr>\n",
       "    <tr>\n",
       "      <th>4</th>\n",
       "      <td>ANDERSEN</td>\n",
       "      <td>0</td>\n",
       "      <td>6</td>\n",
       "      <td>15</td>\n",
       "    </tr>\n",
       "  </tbody>\n",
       "</table>\n",
       "</div>"
      ],
      "text/plain": [
       "    school_name  total_highpass  total_pass  total\n",
       "0  ALBANY PARK                1          15     34\n",
       "1        ALCOTT               1           9     27\n",
       "2       ALTGELD               0           6     11\n",
       "3          AMES               0           3     61\n",
       "4     ANDERSEN                0           6     15"
      ]
     },
     "execution_count": 7,
     "metadata": {},
     "output_type": "execute_result"
    }
   ],
   "source": [
    "db.head()"
   ]
  },
  {
   "cell_type": "code",
   "execution_count": 8,
   "metadata": {
    "collapsed": false
   },
   "outputs": [
    {
     "data": {
      "text/html": [
       "<div style=\"max-height:1000px;max-width:1500px;overflow:auto;\">\n",
       "<table border=\"1\" class=\"dataframe\">\n",
       "  <thead>\n",
       "    <tr style=\"text-align: right;\">\n",
       "      <th></th>\n",
       "      <th>school_name</th>\n",
       "      <th>total_highpass</th>\n",
       "      <th>total_pass</th>\n",
       "      <th>total</th>\n",
       "    </tr>\n",
       "  </thead>\n",
       "  <tbody>\n",
       "    <tr>\n",
       "      <th>130</th>\n",
       "      <td>WILLIAMS PREP</td>\n",
       "      <td>0</td>\n",
       "      <td>0</td>\n",
       "      <td>7</td>\n",
       "    </tr>\n",
       "    <tr>\n",
       "      <th>131</th>\n",
       "      <td>WILLIAMS PREP MED</td>\n",
       "      <td>0</td>\n",
       "      <td>2</td>\n",
       "      <td>26</td>\n",
       "    </tr>\n",
       "    <tr>\n",
       "      <th>132</th>\n",
       "      <td>YATES</td>\n",
       "      <td>4</td>\n",
       "      <td>14</td>\n",
       "      <td>20</td>\n",
       "    </tr>\n",
       "    <tr>\n",
       "      <th>133</th>\n",
       "      <td>YOUNG, W</td>\n",
       "      <td>34</td>\n",
       "      <td>81</td>\n",
       "      <td>125</td>\n",
       "    </tr>\n",
       "    <tr>\n",
       "      <th>134</th>\n",
       "      <td>ZAPATA</td>\n",
       "      <td>0</td>\n",
       "      <td>9</td>\n",
       "      <td>19</td>\n",
       "    </tr>\n",
       "  </tbody>\n",
       "</table>\n",
       "</div>"
      ],
      "text/plain": [
       "           school_name  total_highpass  total_pass  total\n",
       "130      WILLIAMS PREP               0           0      7\n",
       "131  WILLIAMS PREP MED               0           2     26\n",
       "132              YATES               4          14     20\n",
       "133          YOUNG, W               34          81    125\n",
       "134            ZAPATA                0           9     19"
      ]
     },
     "execution_count": 8,
     "metadata": {},
     "output_type": "execute_result"
    }
   ],
   "source": [
    "db.tail()"
   ]
  },
  {
   "cell_type": "code",
   "execution_count": 9,
   "metadata": {
    "collapsed": false
   },
   "outputs": [],
   "source": [
    "# sorting data by total_pass\n",
    "db.sort(columns = ['total_pass'], inplace = True, ascending = False)"
   ]
  },
  {
   "cell_type": "code",
   "execution_count": 10,
   "metadata": {
    "collapsed": false
   },
   "outputs": [
    {
     "data": {
      "text/html": [
       "<div style=\"max-height:1000px;max-width:1500px;overflow:auto;\">\n",
       "<table border=\"1\" class=\"dataframe\">\n",
       "  <thead>\n",
       "    <tr style=\"text-align: right;\">\n",
       "      <th></th>\n",
       "      <th>school_name</th>\n",
       "      <th>total_highpass</th>\n",
       "      <th>total_pass</th>\n",
       "      <th>total</th>\n",
       "    </tr>\n",
       "  </thead>\n",
       "  <tbody>\n",
       "    <tr>\n",
       "      <th>133</th>\n",
       "      <td>YOUNG, W</td>\n",
       "      <td>34</td>\n",
       "      <td>81</td>\n",
       "      <td>125</td>\n",
       "    </tr>\n",
       "  </tbody>\n",
       "</table>\n",
       "</div>"
      ],
      "text/plain": [
       "    school_name  total_highpass  total_pass  total\n",
       "133   YOUNG, W               34          81    125"
      ]
     },
     "execution_count": 10,
     "metadata": {},
     "output_type": "execute_result"
    }
   ],
   "source": [
    "# getting the school with highest total_pass\n",
    "db[db.total_pass == db.total_pass.max()]"
   ]
  },
  {
   "cell_type": "code",
   "execution_count": 11,
   "metadata": {
    "collapsed": false
   },
   "outputs": [
    {
     "data": {
      "text/html": [
       "<div style=\"max-height:1000px;max-width:1500px;overflow:auto;\">\n",
       "<table border=\"1\" class=\"dataframe\">\n",
       "  <thead>\n",
       "    <tr style=\"text-align: right;\">\n",
       "      <th></th>\n",
       "      <th>school_name</th>\n",
       "      <th>total_highpass</th>\n",
       "      <th>total_pass</th>\n",
       "      <th>total</th>\n",
       "    </tr>\n",
       "  </thead>\n",
       "  <tbody>\n",
       "    <tr>\n",
       "      <th>133</th>\n",
       "      <td>YOUNG, W</td>\n",
       "      <td>34</td>\n",
       "      <td>81</td>\n",
       "      <td>125</td>\n",
       "    </tr>\n",
       "  </tbody>\n",
       "</table>\n",
       "</div>"
      ],
      "text/plain": [
       "    school_name  total_highpass  total_pass  total\n",
       "133   YOUNG, W               34          81    125"
      ]
     },
     "execution_count": 11,
     "metadata": {},
     "output_type": "execute_result"
    }
   ],
   "source": [
    "# getting the school with highest total_highpass\n",
    "db[db.total_highpass == db.total_highpass.max()]"
   ]
  },
  {
   "cell_type": "code",
   "execution_count": 12,
   "metadata": {
    "collapsed": false
   },
   "outputs": [],
   "source": [
    "# sorting data by total_highpass\n",
    "db.sort(columns = ['total_highpass'], inplace = True, ascending = False)"
   ]
  },
  {
   "cell_type": "code",
   "execution_count": 13,
   "metadata": {
    "collapsed": false
   },
   "outputs": [
    {
     "data": {
      "text/html": [
       "<div style=\"max-height:1000px;max-width:1500px;overflow:auto;\">\n",
       "<table border=\"1\" class=\"dataframe\">\n",
       "  <thead>\n",
       "    <tr style=\"text-align: right;\">\n",
       "      <th></th>\n",
       "      <th>school_name</th>\n",
       "      <th>total_highpass</th>\n",
       "      <th>total_pass</th>\n",
       "      <th>total</th>\n",
       "    </tr>\n",
       "  </thead>\n",
       "  <tbody>\n",
       "    <tr>\n",
       "      <th>133</th>\n",
       "      <td>YOUNG, W</td>\n",
       "      <td>34</td>\n",
       "      <td>81</td>\n",
       "      <td>125</td>\n",
       "    </tr>\n",
       "    <tr>\n",
       "      <th>60</th>\n",
       "      <td>HAWTHORNE</td>\n",
       "      <td>21</td>\n",
       "      <td>19</td>\n",
       "      <td>61</td>\n",
       "    </tr>\n",
       "    <tr>\n",
       "      <th>70</th>\n",
       "      <td>KENWOOD</td>\n",
       "      <td>18</td>\n",
       "      <td>52</td>\n",
       "      <td>82</td>\n",
       "    </tr>\n",
       "    <tr>\n",
       "      <th>124</th>\n",
       "      <td>THORP O A</td>\n",
       "      <td>13</td>\n",
       "      <td>15</td>\n",
       "      <td>28</td>\n",
       "    </tr>\n",
       "    <tr>\n",
       "      <th>53</th>\n",
       "      <td>GRAY</td>\n",
       "      <td>11</td>\n",
       "      <td>13</td>\n",
       "      <td>29</td>\n",
       "    </tr>\n",
       "  </tbody>\n",
       "</table>\n",
       "</div>"
      ],
      "text/plain": [
       "    school_name  total_highpass  total_pass  total\n",
       "133   YOUNG, W               34          81    125\n",
       "60    HAWTHORNE              21          19     61\n",
       "70     KENWOOD               18          52     82\n",
       "124   THORP O A              13          15     28\n",
       "53         GRAY              11          13     29"
      ]
     },
     "execution_count": 13,
     "metadata": {},
     "output_type": "execute_result"
    }
   ],
   "source": [
    "db.head()"
   ]
  },
  {
   "cell_type": "code",
   "execution_count": 14,
   "metadata": {
    "collapsed": true
   },
   "outputs": [],
   "source": [
    "# create new columns for percentage total_pass\n",
    "db['perc_total_pass'] = db['total_pass']/db['total']"
   ]
  },
  {
   "cell_type": "code",
   "execution_count": 15,
   "metadata": {
    "collapsed": false
   },
   "outputs": [],
   "source": [
    "# create new columns for percentage total_highpass\n",
    "db['perc_total_highpass'] = db['total_highpass']/db['total']"
   ]
  },
  {
   "cell_type": "code",
   "execution_count": 86,
   "metadata": {
    "collapsed": false
   },
   "outputs": [
    {
     "data": {
      "text/html": [
       "<div style=\"max-height:1000px;max-width:1500px;overflow:auto;\">\n",
       "<table border=\"1\" class=\"dataframe\">\n",
       "  <thead>\n",
       "    <tr style=\"text-align: right;\">\n",
       "      <th></th>\n",
       "      <th>school_name</th>\n",
       "      <th>total_highpass</th>\n",
       "      <th>total_pass</th>\n",
       "      <th>total</th>\n",
       "      <th>perc_total_pass</th>\n",
       "      <th>perc_total_highpass</th>\n",
       "      <th>pass percent</th>\n",
       "      <th>high pass percent</th>\n",
       "      <th>all_pass</th>\n",
       "      <th>perc_all_pass</th>\n",
       "    </tr>\n",
       "  </thead>\n",
       "  <tbody>\n",
       "    <tr>\n",
       "      <th>112</th>\n",
       "      <td>SHOOP</td>\n",
       "      <td>0</td>\n",
       "      <td>6</td>\n",
       "      <td>6</td>\n",
       "      <td>1.000000</td>\n",
       "      <td>0.000000</td>\n",
       "      <td>1.000000</td>\n",
       "      <td>0.000000</td>\n",
       "      <td>6</td>\n",
       "      <td>1.000000</td>\n",
       "    </tr>\n",
       "    <tr>\n",
       "      <th>124</th>\n",
       "      <td>THORP O A</td>\n",
       "      <td>13</td>\n",
       "      <td>15</td>\n",
       "      <td>28</td>\n",
       "      <td>0.535714</td>\n",
       "      <td>0.464286</td>\n",
       "      <td>0.535714</td>\n",
       "      <td>0.464286</td>\n",
       "      <td>28</td>\n",
       "      <td>1.000000</td>\n",
       "    </tr>\n",
       "    <tr>\n",
       "      <th>48</th>\n",
       "      <td>GALILEO SCHOLASTIC</td>\n",
       "      <td>9</td>\n",
       "      <td>4</td>\n",
       "      <td>13</td>\n",
       "      <td>0.307692</td>\n",
       "      <td>0.692308</td>\n",
       "      <td>0.307692</td>\n",
       "      <td>0.692308</td>\n",
       "      <td>13</td>\n",
       "      <td>1.000000</td>\n",
       "    </tr>\n",
       "    <tr>\n",
       "      <th>56</th>\n",
       "      <td>HAINES</td>\n",
       "      <td>4</td>\n",
       "      <td>17</td>\n",
       "      <td>22</td>\n",
       "      <td>0.772727</td>\n",
       "      <td>0.181818</td>\n",
       "      <td>0.772727</td>\n",
       "      <td>0.181818</td>\n",
       "      <td>21</td>\n",
       "      <td>0.954545</td>\n",
       "    </tr>\n",
       "    <tr>\n",
       "      <th>133</th>\n",
       "      <td>YOUNG, W</td>\n",
       "      <td>34</td>\n",
       "      <td>81</td>\n",
       "      <td>125</td>\n",
       "      <td>0.648000</td>\n",
       "      <td>0.272000</td>\n",
       "      <td>0.648000</td>\n",
       "      <td>0.272000</td>\n",
       "      <td>115</td>\n",
       "      <td>0.920000</td>\n",
       "    </tr>\n",
       "  </tbody>\n",
       "</table>\n",
       "</div>"
      ],
      "text/plain": [
       "            school_name  total_highpass  total_pass  total  perc_total_pass  \\\n",
       "112               SHOOP               0           6      6         1.000000   \n",
       "124           THORP O A              13          15     28         0.535714   \n",
       "48   GALILEO SCHOLASTIC               9           4     13         0.307692   \n",
       "56               HAINES               4          17     22         0.772727   \n",
       "133           YOUNG, W               34          81    125         0.648000   \n",
       "\n",
       "     perc_total_highpass  pass percent  high pass percent  all_pass  \\\n",
       "112             0.000000      1.000000           0.000000         6   \n",
       "124             0.464286      0.535714           0.464286        28   \n",
       "48              0.692308      0.307692           0.692308        13   \n",
       "56              0.181818      0.772727           0.181818        21   \n",
       "133             0.272000      0.648000           0.272000       115   \n",
       "\n",
       "     perc_all_pass  \n",
       "112       1.000000  \n",
       "124       1.000000  \n",
       "48        1.000000  \n",
       "56        0.954545  \n",
       "133       0.920000  "
      ]
     },
     "execution_count": 86,
     "metadata": {},
     "output_type": "execute_result"
    }
   ],
   "source": [
    "db.head()"
   ]
  },
  {
   "cell_type": "code",
   "execution_count": 21,
   "metadata": {
    "collapsed": false
   },
   "outputs": [
    {
     "data": {
      "text/plain": [
       "school_name        YOUNG, W \n",
       "total_highpass            34\n",
       "total_pass                81\n",
       "total                    125\n",
       "perc_total_pass        0.648\n",
       "Name: 133, dtype: object"
      ]
     },
     "execution_count": 21,
     "metadata": {},
     "output_type": "execute_result"
    }
   ],
   "source": [
    "db.iloc[0, :5]"
   ]
  },
  {
   "cell_type": "code",
   "execution_count": 22,
   "metadata": {
    "collapsed": false
   },
   "outputs": [
    {
     "data": {
      "text/plain": [
       "'YOUNG, W '"
      ]
     },
     "execution_count": 22,
     "metadata": {},
     "output_type": "execute_result"
    }
   ],
   "source": [
    "db.iat[0, 0]"
   ]
  },
  {
   "cell_type": "code",
   "execution_count": 23,
   "metadata": {
    "collapsed": false
   },
   "outputs": [
    {
     "data": {
      "text/plain": [
       "0.64800000000000002"
      ]
     },
     "execution_count": 23,
     "metadata": {},
     "output_type": "execute_result"
    }
   ],
   "source": [
    "# find percentage for top school (at row index 0)\n",
    "db.iat[0, 2]/float(db.iat[0, 3])"
   ]
  },
  {
   "cell_type": "code",
   "execution_count": 24,
   "metadata": {
    "collapsed": false
   },
   "outputs": [],
   "source": [
    "# create list for values\n",
    "passpercent = []\n",
    "for i in range(len(db)):\n",
    "    passpercent.append(db.iat[i, 2]/float(db.iat[i, 3]))"
   ]
  },
  {
   "cell_type": "code",
   "execution_count": 25,
   "metadata": {
    "collapsed": false
   },
   "outputs": [
    {
     "data": {
      "text/plain": [
       "[0.64800000000000002,\n",
       " 0.31147540983606559,\n",
       " 0.63414634146341464,\n",
       " 0.5357142857142857,\n",
       " 0.44827586206896552,\n",
       " 0.55405405405405406,\n",
       " 0.30769230769230771,\n",
       " 0.5,\n",
       " 0.41860465116279072,\n",
       " 0.57692307692307687,\n",
       " 0.69444444444444442,\n",
       " 0.41935483870967744,\n",
       " 0.54838709677419351,\n",
       " 0.63636363636363635,\n",
       " 0.19230769230769232,\n",
       " 0.26785714285714285,\n",
       " 0.29032258064516131,\n",
       " 0.25806451612903225,\n",
       " 0.69999999999999996,\n",
       " 0.38461538461538464,\n",
       " 0.4838709677419355,\n",
       " 0.53333333333333333,\n",
       " 0.77272727272727271,\n",
       " 0.75,\n",
       " 0.5,\n",
       " 0.56666666666666665,\n",
       " 0.47826086956521741,\n",
       " 0.40000000000000002,\n",
       " 0.27272727272727271,\n",
       " 0.25,\n",
       " 0.58333333333333337,\n",
       " 0.22222222222222221,\n",
       " 0.5,\n",
       " 0.26666666666666666,\n",
       " 0.3888888888888889,\n",
       " 0.29166666666666669,\n",
       " 0.69999999999999996,\n",
       " 0.63414634146341464,\n",
       " 0.44117647058823528,\n",
       " 0.30434782608695654,\n",
       " 0.35135135135135137,\n",
       " 0.54545454545454541,\n",
       " 0.26666666666666666,\n",
       " 0.18518518518518517,\n",
       " 0.40000000000000002,\n",
       " 0.10000000000000001,\n",
       " 0.8125,\n",
       " 0.33333333333333331,\n",
       " 0.47999999999999998,\n",
       " 0.076923076923076927,\n",
       " 0.33333333333333331,\n",
       " 0.20000000000000001,\n",
       " 0.33333333333333331,\n",
       " 0.24242424242424243,\n",
       " 0.0,\n",
       " 0.1111111111111111,\n",
       " 0.14285714285714285,\n",
       " 0.10000000000000001,\n",
       " 0.045454545454545456,\n",
       " 0.10000000000000001,\n",
       " 0.016949152542372881,\n",
       " 0.0625,\n",
       " 0.16666666666666666,\n",
       " 0.10000000000000001,\n",
       " 0.14285714285714285,\n",
       " 0.25,\n",
       " 0.20000000000000001,\n",
       " 0.2857142857142857,\n",
       " 0.076923076923076927,\n",
       " 0.0,\n",
       " 0.058823529411764705,\n",
       " 0.125,\n",
       " 0.0,\n",
       " 0.0,\n",
       " 0.0,\n",
       " 0.0,\n",
       " 0.0,\n",
       " 0.0,\n",
       " 0.0,\n",
       " 0.095238095238095233,\n",
       " 0.0,\n",
       " 0.0,\n",
       " 0.14285714285714285,\n",
       " 0.071428571428571425,\n",
       " 0.14285714285714285,\n",
       " 0.16666666666666666,\n",
       " 0.0,\n",
       " 0.0,\n",
       " 0.038461538461538464,\n",
       " 0.066666666666666666,\n",
       " 0.0,\n",
       " 0.095238095238095233,\n",
       " 0.5,\n",
       " 0.066666666666666666,\n",
       " 0.47368421052631576,\n",
       " 0.66666666666666663,\n",
       " 0.2857142857142857,\n",
       " 1.0,\n",
       " 0.3888888888888889,\n",
       " 0.26923076923076922,\n",
       " 0.25925925925925924,\n",
       " 0.5714285714285714,\n",
       " 0.81818181818181823,\n",
       " 0.81818181818181823,\n",
       " 0.125,\n",
       " 0.7142857142857143,\n",
       " 0.44,\n",
       " 0.36666666666666664,\n",
       " 0.7857142857142857,\n",
       " 0.27659574468085107,\n",
       " 0.42424242424242425,\n",
       " 0.25,\n",
       " 0.625,\n",
       " 0.29999999999999999,\n",
       " 0.54545454545454541,\n",
       " 0.40000000000000002,\n",
       " 0.35714285714285715,\n",
       " 0.22222222222222221,\n",
       " 0.27272727272727271,\n",
       " 0.27272727272727271,\n",
       " 0.125,\n",
       " 0.16666666666666666,\n",
       " 0.375,\n",
       " 0.049180327868852458,\n",
       " 0.13333333333333333,\n",
       " 0.36363636363636365,\n",
       " 0.14285714285714285,\n",
       " 0.40000000000000002,\n",
       " 0.16,\n",
       " 0.35714285714285715,\n",
       " 0.35714285714285715,\n",
       " 0.21739130434782608,\n",
       " 0.19230769230769232,\n",
       " 0.38461538461538464,\n",
       " 0.0]"
      ]
     },
     "execution_count": 25,
     "metadata": {},
     "output_type": "execute_result"
    }
   ],
   "source": [
    "passpercent"
   ]
  },
  {
   "cell_type": "code",
   "execution_count": 26,
   "metadata": {
    "collapsed": true
   },
   "outputs": [],
   "source": [
    "db['pass percent'] = passpercent"
   ]
  },
  {
   "cell_type": "code",
   "execution_count": 27,
   "metadata": {
    "collapsed": false
   },
   "outputs": [
    {
     "data": {
      "text/html": [
       "<div style=\"max-height:1000px;max-width:1500px;overflow:auto;\">\n",
       "<table border=\"1\" class=\"dataframe\">\n",
       "  <thead>\n",
       "    <tr style=\"text-align: right;\">\n",
       "      <th></th>\n",
       "      <th>school_name</th>\n",
       "      <th>total_highpass</th>\n",
       "      <th>total_pass</th>\n",
       "      <th>total</th>\n",
       "      <th>perc_total_pass</th>\n",
       "      <th>perc_total_highpass</th>\n",
       "      <th>high pass percent</th>\n",
       "      <th>pass percent</th>\n",
       "    </tr>\n",
       "  </thead>\n",
       "  <tbody>\n",
       "    <tr>\n",
       "      <th>133</th>\n",
       "      <td>YOUNG, W</td>\n",
       "      <td>34</td>\n",
       "      <td>81</td>\n",
       "      <td>125</td>\n",
       "      <td>0.648000</td>\n",
       "      <td>0.272000</td>\n",
       "      <td>0.272000</td>\n",
       "      <td>0.648000</td>\n",
       "    </tr>\n",
       "    <tr>\n",
       "      <th>60</th>\n",
       "      <td>HAWTHORNE</td>\n",
       "      <td>21</td>\n",
       "      <td>19</td>\n",
       "      <td>61</td>\n",
       "      <td>0.311475</td>\n",
       "      <td>0.344262</td>\n",
       "      <td>0.344262</td>\n",
       "      <td>0.311475</td>\n",
       "    </tr>\n",
       "    <tr>\n",
       "      <th>70</th>\n",
       "      <td>KENWOOD</td>\n",
       "      <td>18</td>\n",
       "      <td>52</td>\n",
       "      <td>82</td>\n",
       "      <td>0.634146</td>\n",
       "      <td>0.219512</td>\n",
       "      <td>0.219512</td>\n",
       "      <td>0.634146</td>\n",
       "    </tr>\n",
       "    <tr>\n",
       "      <th>124</th>\n",
       "      <td>THORP O A</td>\n",
       "      <td>13</td>\n",
       "      <td>15</td>\n",
       "      <td>28</td>\n",
       "      <td>0.535714</td>\n",
       "      <td>0.464286</td>\n",
       "      <td>0.464286</td>\n",
       "      <td>0.535714</td>\n",
       "    </tr>\n",
       "    <tr>\n",
       "      <th>53</th>\n",
       "      <td>GRAY</td>\n",
       "      <td>11</td>\n",
       "      <td>13</td>\n",
       "      <td>29</td>\n",
       "      <td>0.448276</td>\n",
       "      <td>0.379310</td>\n",
       "      <td>0.379310</td>\n",
       "      <td>0.448276</td>\n",
       "    </tr>\n",
       "  </tbody>\n",
       "</table>\n",
       "</div>"
      ],
      "text/plain": [
       "    school_name  total_highpass  total_pass  total  perc_total_pass  \\\n",
       "133   YOUNG, W               34          81    125         0.648000   \n",
       "60    HAWTHORNE              21          19     61         0.311475   \n",
       "70     KENWOOD               18          52     82         0.634146   \n",
       "124   THORP O A              13          15     28         0.535714   \n",
       "53         GRAY              11          13     29         0.448276   \n",
       "\n",
       "     perc_total_highpass  high pass percent  pass percent  \n",
       "133             0.272000           0.272000      0.648000  \n",
       "60              0.344262           0.344262      0.311475  \n",
       "70              0.219512           0.219512      0.634146  \n",
       "124             0.464286           0.464286      0.535714  \n",
       "53              0.379310           0.379310      0.448276  "
      ]
     },
     "execution_count": 27,
     "metadata": {},
     "output_type": "execute_result"
    }
   ],
   "source": [
    "db.head()"
   ]
  },
  {
   "cell_type": "code",
   "execution_count": 28,
   "metadata": {
    "collapsed": true
   },
   "outputs": [],
   "source": [
    "highpasspercent = []\n",
    "for i in range(len(db)):\n",
    "    highpasspercent.append(db.iat[i, 1]/float(db.iat[i, 3]))"
   ]
  },
  {
   "cell_type": "code",
   "execution_count": 29,
   "metadata": {
    "collapsed": true
   },
   "outputs": [],
   "source": [
    "db['high pass percent'] = highpasspercent"
   ]
  },
  {
   "cell_type": "code",
   "execution_count": 30,
   "metadata": {
    "collapsed": false
   },
   "outputs": [
    {
     "data": {
      "text/html": [
       "<div style=\"max-height:1000px;max-width:1500px;overflow:auto;\">\n",
       "<table border=\"1\" class=\"dataframe\">\n",
       "  <thead>\n",
       "    <tr style=\"text-align: right;\">\n",
       "      <th></th>\n",
       "      <th>school_name</th>\n",
       "      <th>total_highpass</th>\n",
       "      <th>total_pass</th>\n",
       "      <th>total</th>\n",
       "      <th>perc_total_pass</th>\n",
       "      <th>perc_total_highpass</th>\n",
       "      <th>high pass percent</th>\n",
       "      <th>pass percent</th>\n",
       "    </tr>\n",
       "  </thead>\n",
       "  <tbody>\n",
       "    <tr>\n",
       "      <th>133</th>\n",
       "      <td>YOUNG, W</td>\n",
       "      <td>34</td>\n",
       "      <td>81</td>\n",
       "      <td>125</td>\n",
       "      <td>0.648000</td>\n",
       "      <td>0.272000</td>\n",
       "      <td>0.272000</td>\n",
       "      <td>0.648000</td>\n",
       "    </tr>\n",
       "    <tr>\n",
       "      <th>60</th>\n",
       "      <td>HAWTHORNE</td>\n",
       "      <td>21</td>\n",
       "      <td>19</td>\n",
       "      <td>61</td>\n",
       "      <td>0.311475</td>\n",
       "      <td>0.344262</td>\n",
       "      <td>0.344262</td>\n",
       "      <td>0.311475</td>\n",
       "    </tr>\n",
       "    <tr>\n",
       "      <th>70</th>\n",
       "      <td>KENWOOD</td>\n",
       "      <td>18</td>\n",
       "      <td>52</td>\n",
       "      <td>82</td>\n",
       "      <td>0.634146</td>\n",
       "      <td>0.219512</td>\n",
       "      <td>0.219512</td>\n",
       "      <td>0.634146</td>\n",
       "    </tr>\n",
       "    <tr>\n",
       "      <th>124</th>\n",
       "      <td>THORP O A</td>\n",
       "      <td>13</td>\n",
       "      <td>15</td>\n",
       "      <td>28</td>\n",
       "      <td>0.535714</td>\n",
       "      <td>0.464286</td>\n",
       "      <td>0.464286</td>\n",
       "      <td>0.535714</td>\n",
       "    </tr>\n",
       "    <tr>\n",
       "      <th>53</th>\n",
       "      <td>GRAY</td>\n",
       "      <td>11</td>\n",
       "      <td>13</td>\n",
       "      <td>29</td>\n",
       "      <td>0.448276</td>\n",
       "      <td>0.379310</td>\n",
       "      <td>0.379310</td>\n",
       "      <td>0.448276</td>\n",
       "    </tr>\n",
       "  </tbody>\n",
       "</table>\n",
       "</div>"
      ],
      "text/plain": [
       "    school_name  total_highpass  total_pass  total  perc_total_pass  \\\n",
       "133   YOUNG, W               34          81    125         0.648000   \n",
       "60    HAWTHORNE              21          19     61         0.311475   \n",
       "70     KENWOOD               18          52     82         0.634146   \n",
       "124   THORP O A              13          15     28         0.535714   \n",
       "53         GRAY              11          13     29         0.448276   \n",
       "\n",
       "     perc_total_highpass  high pass percent  pass percent  \n",
       "133             0.272000           0.272000      0.648000  \n",
       "60              0.344262           0.344262      0.311475  \n",
       "70              0.219512           0.219512      0.634146  \n",
       "124             0.464286           0.464286      0.535714  \n",
       "53              0.379310           0.379310      0.448276  "
      ]
     },
     "execution_count": 30,
     "metadata": {},
     "output_type": "execute_result"
    }
   ],
   "source": [
    "db.head()"
   ]
  },
  {
   "cell_type": "code",
   "execution_count": 31,
   "metadata": {
    "collapsed": true
   },
   "outputs": [],
   "source": [
    "db.sort(columns = ['perc_total_pass'], inplace = True, ascending = False)"
   ]
  },
  {
   "cell_type": "code",
   "execution_count": 32,
   "metadata": {
    "collapsed": false
   },
   "outputs": [
    {
     "data": {
      "text/html": [
       "<div style=\"max-height:1000px;max-width:1500px;overflow:auto;\">\n",
       "<table border=\"1\" class=\"dataframe\">\n",
       "  <thead>\n",
       "    <tr style=\"text-align: right;\">\n",
       "      <th></th>\n",
       "      <th>school_name</th>\n",
       "      <th>total_highpass</th>\n",
       "      <th>total_pass</th>\n",
       "      <th>total</th>\n",
       "      <th>perc_total_pass</th>\n",
       "      <th>perc_total_highpass</th>\n",
       "      <th>high pass percent</th>\n",
       "      <th>pass percent</th>\n",
       "    </tr>\n",
       "  </thead>\n",
       "  <tbody>\n",
       "    <tr>\n",
       "      <th>112</th>\n",
       "      <td>SHOOP</td>\n",
       "      <td>0</td>\n",
       "      <td>6</td>\n",
       "      <td>6</td>\n",
       "      <td>1.000000</td>\n",
       "      <td>0.0000</td>\n",
       "      <td>0.0000</td>\n",
       "      <td>1.000000</td>\n",
       "    </tr>\n",
       "    <tr>\n",
       "      <th>13</th>\n",
       "      <td>BLACK</td>\n",
       "      <td>0</td>\n",
       "      <td>9</td>\n",
       "      <td>11</td>\n",
       "      <td>0.818182</td>\n",
       "      <td>0.0000</td>\n",
       "      <td>0.0000</td>\n",
       "      <td>0.818182</td>\n",
       "    </tr>\n",
       "    <tr>\n",
       "      <th>117</th>\n",
       "      <td>STOCKTON</td>\n",
       "      <td>0</td>\n",
       "      <td>9</td>\n",
       "      <td>11</td>\n",
       "      <td>0.818182</td>\n",
       "      <td>0.0000</td>\n",
       "      <td>0.0000</td>\n",
       "      <td>0.818182</td>\n",
       "    </tr>\n",
       "    <tr>\n",
       "      <th>54</th>\n",
       "      <td>GUNSAULUS</td>\n",
       "      <td>1</td>\n",
       "      <td>13</td>\n",
       "      <td>16</td>\n",
       "      <td>0.812500</td>\n",
       "      <td>0.0625</td>\n",
       "      <td>0.0625</td>\n",
       "      <td>0.812500</td>\n",
       "    </tr>\n",
       "    <tr>\n",
       "      <th>9</th>\n",
       "      <td>BEAUBIEN</td>\n",
       "      <td>0</td>\n",
       "      <td>11</td>\n",
       "      <td>14</td>\n",
       "      <td>0.785714</td>\n",
       "      <td>0.0000</td>\n",
       "      <td>0.0000</td>\n",
       "      <td>0.785714</td>\n",
       "    </tr>\n",
       "  </tbody>\n",
       "</table>\n",
       "</div>"
      ],
      "text/plain": [
       "    school_name  total_highpass  total_pass  total  perc_total_pass  \\\n",
       "112       SHOOP               0           6      6         1.000000   \n",
       "13        BLACK               0           9     11         0.818182   \n",
       "117    STOCKTON               0           9     11         0.818182   \n",
       "54    GUNSAULUS               1          13     16         0.812500   \n",
       "9      BEAUBIEN               0          11     14         0.785714   \n",
       "\n",
       "     perc_total_highpass  high pass percent  pass percent  \n",
       "112               0.0000             0.0000      1.000000  \n",
       "13                0.0000             0.0000      0.818182  \n",
       "117               0.0000             0.0000      0.818182  \n",
       "54                0.0625             0.0625      0.812500  \n",
       "9                 0.0000             0.0000      0.785714  "
      ]
     },
     "execution_count": 32,
     "metadata": {},
     "output_type": "execute_result"
    }
   ],
   "source": [
    "db.head()"
   ]
  },
  {
   "cell_type": "code",
   "execution_count": 33,
   "metadata": {
    "collapsed": false
   },
   "outputs": [],
   "source": [
    "db.sort(columns = 'perc_total_highpass', inplace = True, ascending = False)"
   ]
  },
  {
   "cell_type": "code",
   "execution_count": 34,
   "metadata": {
    "collapsed": false
   },
   "outputs": [
    {
     "data": {
      "text/html": [
       "<div style=\"max-height:1000px;max-width:1500px;overflow:auto;\">\n",
       "<table border=\"1\" class=\"dataframe\">\n",
       "  <thead>\n",
       "    <tr style=\"text-align: right;\">\n",
       "      <th></th>\n",
       "      <th>school_name</th>\n",
       "      <th>total_highpass</th>\n",
       "      <th>total_pass</th>\n",
       "      <th>total</th>\n",
       "      <th>perc_total_pass</th>\n",
       "      <th>perc_total_highpass</th>\n",
       "      <th>high pass percent</th>\n",
       "      <th>pass percent</th>\n",
       "    </tr>\n",
       "  </thead>\n",
       "  <tbody>\n",
       "    <tr>\n",
       "      <th>48</th>\n",
       "      <td>GALILEO SCHOLASTIC</td>\n",
       "      <td>9</td>\n",
       "      <td>4</td>\n",
       "      <td>13</td>\n",
       "      <td>0.307692</td>\n",
       "      <td>0.692308</td>\n",
       "      <td>0.692308</td>\n",
       "      <td>0.307692</td>\n",
       "    </tr>\n",
       "    <tr>\n",
       "      <th>124</th>\n",
       "      <td>THORP O A</td>\n",
       "      <td>13</td>\n",
       "      <td>15</td>\n",
       "      <td>28</td>\n",
       "      <td>0.535714</td>\n",
       "      <td>0.464286</td>\n",
       "      <td>0.464286</td>\n",
       "      <td>0.535714</td>\n",
       "    </tr>\n",
       "    <tr>\n",
       "      <th>53</th>\n",
       "      <td>GRAY</td>\n",
       "      <td>11</td>\n",
       "      <td>13</td>\n",
       "      <td>29</td>\n",
       "      <td>0.448276</td>\n",
       "      <td>0.379310</td>\n",
       "      <td>0.379310</td>\n",
       "      <td>0.448276</td>\n",
       "    </tr>\n",
       "    <tr>\n",
       "      <th>60</th>\n",
       "      <td>HAWTHORNE</td>\n",
       "      <td>21</td>\n",
       "      <td>19</td>\n",
       "      <td>61</td>\n",
       "      <td>0.311475</td>\n",
       "      <td>0.344262</td>\n",
       "      <td>0.344262</td>\n",
       "      <td>0.311475</td>\n",
       "    </tr>\n",
       "    <tr>\n",
       "      <th>28</th>\n",
       "      <td>CASTELLANOS</td>\n",
       "      <td>2</td>\n",
       "      <td>3</td>\n",
       "      <td>6</td>\n",
       "      <td>0.500000</td>\n",
       "      <td>0.333333</td>\n",
       "      <td>0.333333</td>\n",
       "      <td>0.500000</td>\n",
       "    </tr>\n",
       "  </tbody>\n",
       "</table>\n",
       "</div>"
      ],
      "text/plain": [
       "            school_name  total_highpass  total_pass  total  perc_total_pass  \\\n",
       "48   GALILEO SCHOLASTIC               9           4     13         0.307692   \n",
       "124           THORP O A              13          15     28         0.535714   \n",
       "53                 GRAY              11          13     29         0.448276   \n",
       "60            HAWTHORNE              21          19     61         0.311475   \n",
       "28          CASTELLANOS               2           3      6         0.500000   \n",
       "\n",
       "     perc_total_highpass  high pass percent  pass percent  \n",
       "48              0.692308           0.692308      0.307692  \n",
       "124             0.464286           0.464286      0.535714  \n",
       "53              0.379310           0.379310      0.448276  \n",
       "60              0.344262           0.344262      0.311475  \n",
       "28              0.333333           0.333333      0.500000  "
      ]
     },
     "execution_count": 34,
     "metadata": {},
     "output_type": "execute_result"
    }
   ],
   "source": [
    "db.head()"
   ]
  },
  {
   "cell_type": "code",
   "execution_count": 35,
   "metadata": {
    "collapsed": true
   },
   "outputs": [],
   "source": [
    "db['all_pass'] = db.total_pass + db.total_highpass"
   ]
  },
  {
   "cell_type": "code",
   "execution_count": 36,
   "metadata": {
    "collapsed": false
   },
   "outputs": [
    {
     "data": {
      "text/html": [
       "<div style=\"max-height:1000px;max-width:1500px;overflow:auto;\">\n",
       "<table border=\"1\" class=\"dataframe\">\n",
       "  <thead>\n",
       "    <tr style=\"text-align: right;\">\n",
       "      <th></th>\n",
       "      <th>school_name</th>\n",
       "      <th>total_highpass</th>\n",
       "      <th>total_pass</th>\n",
       "      <th>total</th>\n",
       "      <th>perc_total_pass</th>\n",
       "      <th>perc_total_highpass</th>\n",
       "      <th>high pass percent</th>\n",
       "      <th>pass percent</th>\n",
       "      <th>all_pass</th>\n",
       "    </tr>\n",
       "  </thead>\n",
       "  <tbody>\n",
       "    <tr>\n",
       "      <th>48</th>\n",
       "      <td>GALILEO SCHOLASTIC</td>\n",
       "      <td>9</td>\n",
       "      <td>4</td>\n",
       "      <td>13</td>\n",
       "      <td>0.307692</td>\n",
       "      <td>0.692308</td>\n",
       "      <td>0.692308</td>\n",
       "      <td>0.307692</td>\n",
       "      <td>13</td>\n",
       "    </tr>\n",
       "    <tr>\n",
       "      <th>124</th>\n",
       "      <td>THORP O A</td>\n",
       "      <td>13</td>\n",
       "      <td>15</td>\n",
       "      <td>28</td>\n",
       "      <td>0.535714</td>\n",
       "      <td>0.464286</td>\n",
       "      <td>0.464286</td>\n",
       "      <td>0.535714</td>\n",
       "      <td>28</td>\n",
       "    </tr>\n",
       "    <tr>\n",
       "      <th>53</th>\n",
       "      <td>GRAY</td>\n",
       "      <td>11</td>\n",
       "      <td>13</td>\n",
       "      <td>29</td>\n",
       "      <td>0.448276</td>\n",
       "      <td>0.379310</td>\n",
       "      <td>0.379310</td>\n",
       "      <td>0.448276</td>\n",
       "      <td>24</td>\n",
       "    </tr>\n",
       "    <tr>\n",
       "      <th>60</th>\n",
       "      <td>HAWTHORNE</td>\n",
       "      <td>21</td>\n",
       "      <td>19</td>\n",
       "      <td>61</td>\n",
       "      <td>0.311475</td>\n",
       "      <td>0.344262</td>\n",
       "      <td>0.344262</td>\n",
       "      <td>0.311475</td>\n",
       "      <td>40</td>\n",
       "    </tr>\n",
       "    <tr>\n",
       "      <th>28</th>\n",
       "      <td>CASTELLANOS</td>\n",
       "      <td>2</td>\n",
       "      <td>3</td>\n",
       "      <td>6</td>\n",
       "      <td>0.500000</td>\n",
       "      <td>0.333333</td>\n",
       "      <td>0.333333</td>\n",
       "      <td>0.500000</td>\n",
       "      <td>5</td>\n",
       "    </tr>\n",
       "  </tbody>\n",
       "</table>\n",
       "</div>"
      ],
      "text/plain": [
       "            school_name  total_highpass  total_pass  total  perc_total_pass  \\\n",
       "48   GALILEO SCHOLASTIC               9           4     13         0.307692   \n",
       "124           THORP O A              13          15     28         0.535714   \n",
       "53                 GRAY              11          13     29         0.448276   \n",
       "60            HAWTHORNE              21          19     61         0.311475   \n",
       "28          CASTELLANOS               2           3      6         0.500000   \n",
       "\n",
       "     perc_total_highpass  high pass percent  pass percent  all_pass  \n",
       "48              0.692308           0.692308      0.307692        13  \n",
       "124             0.464286           0.464286      0.535714        28  \n",
       "53              0.379310           0.379310      0.448276        24  \n",
       "60              0.344262           0.344262      0.311475        40  \n",
       "28              0.333333           0.333333      0.500000         5  "
      ]
     },
     "execution_count": 36,
     "metadata": {},
     "output_type": "execute_result"
    }
   ],
   "source": [
    "db.head()"
   ]
  },
  {
   "cell_type": "code",
   "execution_count": 37,
   "metadata": {
    "collapsed": true
   },
   "outputs": [],
   "source": [
    "db.sort(columns = 'all_pass', inplace = True, ascending = False)"
   ]
  },
  {
   "cell_type": "code",
   "execution_count": 38,
   "metadata": {
    "collapsed": false
   },
   "outputs": [
    {
     "data": {
      "text/html": [
       "<div style=\"max-height:1000px;max-width:1500px;overflow:auto;\">\n",
       "<table border=\"1\" class=\"dataframe\">\n",
       "  <thead>\n",
       "    <tr style=\"text-align: right;\">\n",
       "      <th></th>\n",
       "      <th>school_name</th>\n",
       "      <th>total_highpass</th>\n",
       "      <th>total_pass</th>\n",
       "      <th>total</th>\n",
       "      <th>perc_total_pass</th>\n",
       "      <th>perc_total_highpass</th>\n",
       "      <th>high pass percent</th>\n",
       "      <th>pass percent</th>\n",
       "      <th>all_pass</th>\n",
       "    </tr>\n",
       "  </thead>\n",
       "  <tbody>\n",
       "    <tr>\n",
       "      <th>133</th>\n",
       "      <td>YOUNG, W</td>\n",
       "      <td>34</td>\n",
       "      <td>81</td>\n",
       "      <td>125</td>\n",
       "      <td>0.648000</td>\n",
       "      <td>0.272000</td>\n",
       "      <td>0.272000</td>\n",
       "      <td>0.648000</td>\n",
       "      <td>115</td>\n",
       "    </tr>\n",
       "    <tr>\n",
       "      <th>70</th>\n",
       "      <td>KENWOOD</td>\n",
       "      <td>18</td>\n",
       "      <td>52</td>\n",
       "      <td>82</td>\n",
       "      <td>0.634146</td>\n",
       "      <td>0.219512</td>\n",
       "      <td>0.219512</td>\n",
       "      <td>0.634146</td>\n",
       "      <td>70</td>\n",
       "    </tr>\n",
       "    <tr>\n",
       "      <th>120</th>\n",
       "      <td>TAFT H S</td>\n",
       "      <td>11</td>\n",
       "      <td>41</td>\n",
       "      <td>74</td>\n",
       "      <td>0.554054</td>\n",
       "      <td>0.148649</td>\n",
       "      <td>0.148649</td>\n",
       "      <td>0.554054</td>\n",
       "      <td>52</td>\n",
       "    </tr>\n",
       "    <tr>\n",
       "      <th>60</th>\n",
       "      <td>HAWTHORNE</td>\n",
       "      <td>21</td>\n",
       "      <td>19</td>\n",
       "      <td>61</td>\n",
       "      <td>0.311475</td>\n",
       "      <td>0.344262</td>\n",
       "      <td>0.344262</td>\n",
       "      <td>0.311475</td>\n",
       "      <td>40</td>\n",
       "    </tr>\n",
       "    <tr>\n",
       "      <th>12</th>\n",
       "      <td>BELL</td>\n",
       "      <td>8</td>\n",
       "      <td>30</td>\n",
       "      <td>60</td>\n",
       "      <td>0.500000</td>\n",
       "      <td>0.133333</td>\n",
       "      <td>0.133333</td>\n",
       "      <td>0.500000</td>\n",
       "      <td>38</td>\n",
       "    </tr>\n",
       "  </tbody>\n",
       "</table>\n",
       "</div>"
      ],
      "text/plain": [
       "    school_name  total_highpass  total_pass  total  perc_total_pass  \\\n",
       "133   YOUNG, W               34          81    125         0.648000   \n",
       "70     KENWOOD               18          52     82         0.634146   \n",
       "120    TAFT H S              11          41     74         0.554054   \n",
       "60    HAWTHORNE              21          19     61         0.311475   \n",
       "12         BELL               8          30     60         0.500000   \n",
       "\n",
       "     perc_total_highpass  high pass percent  pass percent  all_pass  \n",
       "133             0.272000           0.272000      0.648000       115  \n",
       "70              0.219512           0.219512      0.634146        70  \n",
       "120             0.148649           0.148649      0.554054        52  \n",
       "60              0.344262           0.344262      0.311475        40  \n",
       "12              0.133333           0.133333      0.500000        38  "
      ]
     },
     "execution_count": 38,
     "metadata": {},
     "output_type": "execute_result"
    }
   ],
   "source": [
    "db.head()"
   ]
  },
  {
   "cell_type": "code",
   "execution_count": 39,
   "metadata": {
    "collapsed": true
   },
   "outputs": [],
   "source": [
    "db['perc_all_pass'] = db.all_pass/db.total"
   ]
  },
  {
   "cell_type": "code",
   "execution_count": 40,
   "metadata": {
    "collapsed": false
   },
   "outputs": [
    {
     "data": {
      "text/html": [
       "<div style=\"max-height:1000px;max-width:1500px;overflow:auto;\">\n",
       "<table border=\"1\" class=\"dataframe\">\n",
       "  <thead>\n",
       "    <tr style=\"text-align: right;\">\n",
       "      <th></th>\n",
       "      <th>school_name</th>\n",
       "      <th>total_highpass</th>\n",
       "      <th>total_pass</th>\n",
       "      <th>total</th>\n",
       "      <th>perc_total_pass</th>\n",
       "      <th>perc_total_highpass</th>\n",
       "      <th>high pass percent</th>\n",
       "      <th>pass percent</th>\n",
       "      <th>all_pass</th>\n",
       "      <th>perc_all_pass</th>\n",
       "    </tr>\n",
       "  </thead>\n",
       "  <tbody>\n",
       "    <tr>\n",
       "      <th>133</th>\n",
       "      <td>YOUNG, W</td>\n",
       "      <td>34</td>\n",
       "      <td>81</td>\n",
       "      <td>125</td>\n",
       "      <td>0.648000</td>\n",
       "      <td>0.272000</td>\n",
       "      <td>0.272000</td>\n",
       "      <td>0.648000</td>\n",
       "      <td>115</td>\n",
       "      <td>0.920000</td>\n",
       "    </tr>\n",
       "    <tr>\n",
       "      <th>70</th>\n",
       "      <td>KENWOOD</td>\n",
       "      <td>18</td>\n",
       "      <td>52</td>\n",
       "      <td>82</td>\n",
       "      <td>0.634146</td>\n",
       "      <td>0.219512</td>\n",
       "      <td>0.219512</td>\n",
       "      <td>0.634146</td>\n",
       "      <td>70</td>\n",
       "      <td>0.853659</td>\n",
       "    </tr>\n",
       "    <tr>\n",
       "      <th>120</th>\n",
       "      <td>TAFT H S</td>\n",
       "      <td>11</td>\n",
       "      <td>41</td>\n",
       "      <td>74</td>\n",
       "      <td>0.554054</td>\n",
       "      <td>0.148649</td>\n",
       "      <td>0.148649</td>\n",
       "      <td>0.554054</td>\n",
       "      <td>52</td>\n",
       "      <td>0.702703</td>\n",
       "    </tr>\n",
       "    <tr>\n",
       "      <th>60</th>\n",
       "      <td>HAWTHORNE</td>\n",
       "      <td>21</td>\n",
       "      <td>19</td>\n",
       "      <td>61</td>\n",
       "      <td>0.311475</td>\n",
       "      <td>0.344262</td>\n",
       "      <td>0.344262</td>\n",
       "      <td>0.311475</td>\n",
       "      <td>40</td>\n",
       "      <td>0.655738</td>\n",
       "    </tr>\n",
       "    <tr>\n",
       "      <th>12</th>\n",
       "      <td>BELL</td>\n",
       "      <td>8</td>\n",
       "      <td>30</td>\n",
       "      <td>60</td>\n",
       "      <td>0.500000</td>\n",
       "      <td>0.133333</td>\n",
       "      <td>0.133333</td>\n",
       "      <td>0.500000</td>\n",
       "      <td>38</td>\n",
       "      <td>0.633333</td>\n",
       "    </tr>\n",
       "  </tbody>\n",
       "</table>\n",
       "</div>"
      ],
      "text/plain": [
       "    school_name  total_highpass  total_pass  total  perc_total_pass  \\\n",
       "133   YOUNG, W               34          81    125         0.648000   \n",
       "70     KENWOOD               18          52     82         0.634146   \n",
       "120    TAFT H S              11          41     74         0.554054   \n",
       "60    HAWTHORNE              21          19     61         0.311475   \n",
       "12         BELL               8          30     60         0.500000   \n",
       "\n",
       "     perc_total_highpass  high pass percent  pass percent  all_pass  \\\n",
       "133             0.272000           0.272000      0.648000       115   \n",
       "70              0.219512           0.219512      0.634146        70   \n",
       "120             0.148649           0.148649      0.554054        52   \n",
       "60              0.344262           0.344262      0.311475        40   \n",
       "12              0.133333           0.133333      0.500000        38   \n",
       "\n",
       "     perc_all_pass  \n",
       "133       0.920000  \n",
       "70        0.853659  \n",
       "120       0.702703  \n",
       "60        0.655738  \n",
       "12        0.633333  "
      ]
     },
     "execution_count": 40,
     "metadata": {},
     "output_type": "execute_result"
    }
   ],
   "source": [
    "db.head()"
   ]
  },
  {
   "cell_type": "code",
   "execution_count": 41,
   "metadata": {
    "collapsed": true
   },
   "outputs": [],
   "source": [
    "db.sort(columns = 'perc_all_pass', inplace = True, ascending = False)"
   ]
  },
  {
   "cell_type": "code",
   "execution_count": 42,
   "metadata": {
    "collapsed": false
   },
   "outputs": [
    {
     "data": {
      "text/html": [
       "<div style=\"max-height:1000px;max-width:1500px;overflow:auto;\">\n",
       "<table border=\"1\" class=\"dataframe\">\n",
       "  <thead>\n",
       "    <tr style=\"text-align: right;\">\n",
       "      <th></th>\n",
       "      <th>school_name</th>\n",
       "      <th>total_highpass</th>\n",
       "      <th>total_pass</th>\n",
       "      <th>total</th>\n",
       "      <th>perc_total_pass</th>\n",
       "      <th>perc_total_highpass</th>\n",
       "      <th>high pass percent</th>\n",
       "      <th>pass percent</th>\n",
       "      <th>all_pass</th>\n",
       "      <th>perc_all_pass</th>\n",
       "    </tr>\n",
       "  </thead>\n",
       "  <tbody>\n",
       "    <tr>\n",
       "      <th>48</th>\n",
       "      <td>GALILEO SCHOLASTIC</td>\n",
       "      <td>9</td>\n",
       "      <td>4</td>\n",
       "      <td>13</td>\n",
       "      <td>0.307692</td>\n",
       "      <td>0.692308</td>\n",
       "      <td>0.692308</td>\n",
       "      <td>0.307692</td>\n",
       "      <td>13</td>\n",
       "      <td>1.000000</td>\n",
       "    </tr>\n",
       "    <tr>\n",
       "      <th>124</th>\n",
       "      <td>THORP O A</td>\n",
       "      <td>13</td>\n",
       "      <td>15</td>\n",
       "      <td>28</td>\n",
       "      <td>0.535714</td>\n",
       "      <td>0.464286</td>\n",
       "      <td>0.464286</td>\n",
       "      <td>0.535714</td>\n",
       "      <td>28</td>\n",
       "      <td>1.000000</td>\n",
       "    </tr>\n",
       "    <tr>\n",
       "      <th>112</th>\n",
       "      <td>SHOOP</td>\n",
       "      <td>0</td>\n",
       "      <td>6</td>\n",
       "      <td>6</td>\n",
       "      <td>1.000000</td>\n",
       "      <td>0.000000</td>\n",
       "      <td>0.000000</td>\n",
       "      <td>1.000000</td>\n",
       "      <td>6</td>\n",
       "      <td>1.000000</td>\n",
       "    </tr>\n",
       "    <tr>\n",
       "      <th>56</th>\n",
       "      <td>HAINES</td>\n",
       "      <td>4</td>\n",
       "      <td>17</td>\n",
       "      <td>22</td>\n",
       "      <td>0.772727</td>\n",
       "      <td>0.181818</td>\n",
       "      <td>0.181818</td>\n",
       "      <td>0.772727</td>\n",
       "      <td>21</td>\n",
       "      <td>0.954545</td>\n",
       "    </tr>\n",
       "    <tr>\n",
       "      <th>133</th>\n",
       "      <td>YOUNG, W</td>\n",
       "      <td>34</td>\n",
       "      <td>81</td>\n",
       "      <td>125</td>\n",
       "      <td>0.648000</td>\n",
       "      <td>0.272000</td>\n",
       "      <td>0.272000</td>\n",
       "      <td>0.648000</td>\n",
       "      <td>115</td>\n",
       "      <td>0.920000</td>\n",
       "    </tr>\n",
       "  </tbody>\n",
       "</table>\n",
       "</div>"
      ],
      "text/plain": [
       "            school_name  total_highpass  total_pass  total  perc_total_pass  \\\n",
       "48   GALILEO SCHOLASTIC               9           4     13         0.307692   \n",
       "124           THORP O A              13          15     28         0.535714   \n",
       "112               SHOOP               0           6      6         1.000000   \n",
       "56               HAINES               4          17     22         0.772727   \n",
       "133           YOUNG, W               34          81    125         0.648000   \n",
       "\n",
       "     perc_total_highpass  high pass percent  pass percent  all_pass  \\\n",
       "48              0.692308           0.692308      0.307692        13   \n",
       "124             0.464286           0.464286      0.535714        28   \n",
       "112             0.000000           0.000000      1.000000         6   \n",
       "56              0.181818           0.181818      0.772727        21   \n",
       "133             0.272000           0.272000      0.648000       115   \n",
       "\n",
       "     perc_all_pass  \n",
       "48        1.000000  \n",
       "124       1.000000  \n",
       "112       1.000000  \n",
       "56        0.954545  \n",
       "133       0.920000  "
      ]
     },
     "execution_count": 42,
     "metadata": {},
     "output_type": "execute_result"
    }
   ],
   "source": [
    "db.head()"
   ]
  },
  {
   "cell_type": "code",
   "execution_count": null,
   "metadata": {
    "collapsed": true
   },
   "outputs": [],
   "source": []
  }
 ],
 "metadata": {
  "kernelspec": {
   "display_name": "Python 2",
   "language": "python",
   "name": "python2"
  },
  "language_info": {
   "codemirror_mode": {
    "name": "ipython",
    "version": 2
   },
   "file_extension": ".py",
   "mimetype": "text/x-python",
   "name": "python",
   "nbconvert_exporter": "python",
   "pygments_lexer": "ipython2",
   "version": "2.7.6"
  }
 },
 "nbformat": 4,
 "nbformat_minor": 0
}
