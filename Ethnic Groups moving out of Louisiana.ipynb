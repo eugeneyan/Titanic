{
 "cells": [
  {
   "cell_type": "code",
   "execution_count": 2,
   "metadata": {
    "collapsed": false
   },
   "outputs": [],
   "source": [
    "import pandas as pd\n",
    "import matplotlib.pyplot as plt\n",
    "\n",
    "% matplotlib inline"
   ]
  },
  {
   "cell_type": "code",
   "execution_count": 3,
   "metadata": {
    "collapsed": true
   },
   "outputs": [],
   "source": [
    "db = pd.read_csv('ethnic.csv')"
   ]
  },
  {
   "cell_type": "code",
   "execution_count": 4,
   "metadata": {
    "collapsed": false,
    "scrolled": false
   },
   "outputs": [
    {
     "data": {
      "text/plain": [
       "'\\xff'"
      ]
     },
     "execution_count": 4,
     "metadata": {},
     "output_type": "execute_result"
    }
   ],
   "source": [
    "db.columns[0]"
   ]
  },
  {
   "cell_type": "code",
   "execution_count": 5,
   "metadata": {
    "collapsed": false
   },
   "outputs": [],
   "source": [
    "db.rename(columns = {'\\xff' : 'Category'}, inplace = True)"
   ]
  },
  {
   "cell_type": "code",
   "execution_count": 6,
   "metadata": {
    "collapsed": false
   },
   "outputs": [
    {
     "data": {
      "text/html": [
       "<div style=\"max-height:1000px;max-width:1500px;overflow:auto;\">\n",
       "<table border=\"1\" class=\"dataframe\">\n",
       "  <thead>\n",
       "    <tr style=\"text-align: right;\">\n",
       "      <th></th>\n",
       "      <th>Category</th>\n",
       "      <th>�.1</th>\n",
       "      <th>White</th>\n",
       "      <th>Unnamed: 3</th>\n",
       "      <th>Black or African American</th>\n",
       "      <th>Unnamed: 5</th>\n",
       "      <th>American Indian and Alaska Native</th>\n",
       "      <th>Unnamed: 7</th>\n",
       "      <th>Asian</th>\n",
       "      <th>Unnamed: 9</th>\n",
       "      <th>Native Hawaiian and Other Pacific Islander</th>\n",
       "      <th>Unnamed: 11</th>\n",
       "      <th>Some Other Race</th>\n",
       "      <th>Unnamed: 13</th>\n",
       "      <th>�.2</th>\n",
       "      <th>Unnamed: 15</th>\n",
       "      <th>Hispanic or Latino (any race)</th>\n",
       "      <th>Unnamed: 17</th>\n",
       "    </tr>\n",
       "  </thead>\n",
       "  <tbody>\n",
       "    <tr>\n",
       "      <th>0</th>\n",
       "      <td>�</td>\n",
       "      <td>Estimate</td>\n",
       "      <td>Estimate</td>\n",
       "      <td>Margin of Error</td>\n",
       "      <td>Estimate</td>\n",
       "      <td>Margin of Error</td>\n",
       "      <td>Estimate</td>\n",
       "      <td>Margin of Error</td>\n",
       "      <td>Estimate</td>\n",
       "      <td>Margin of Error</td>\n",
       "      <td>Estimate</td>\n",
       "      <td>Margin of Error</td>\n",
       "      <td>Estimate</td>\n",
       "      <td>Margin of Error</td>\n",
       "      <td>Estimate</td>\n",
       "      <td>Margin of Error</td>\n",
       "      <td>Estimate</td>\n",
       "      <td>Margin of Error</td>\n",
       "    </tr>\n",
       "    <tr>\n",
       "      <th>1</th>\n",
       "      <td>Total living in area 1 year ago:</td>\n",
       "      <td>4,398,514</td>\n",
       "      <td>2,794,622</td>\n",
       "      <td>(+/-5,059)</td>\n",
       "      <td>1,400,504</td>\n",
       "      <td>(+/-3,726)</td>\n",
       "      <td>27,695</td>\n",
       "      <td>(+/-1,203)</td>\n",
       "      <td>65,210</td>\n",
       "      <td>(+/-1,184)</td>\n",
       "      <td>1,665</td>\n",
       "      <td>(+/-440)</td>\n",
       "      <td>46,440</td>\n",
       "      <td>(+/-2,316)</td>\n",
       "      <td>62,378</td>\n",
       "      <td>(+/-2,950)</td>\n",
       "      <td>171,643</td>\n",
       "      <td>(+/-1,781)</td>\n",
       "    </tr>\n",
       "    <tr>\n",
       "      <th>2</th>\n",
       "      <td>Same house</td>\n",
       "      <td>3,763,511</td>\n",
       "      <td>2,430,906</td>\n",
       "      <td>(+/-7,919)</td>\n",
       "      <td>1,165,258</td>\n",
       "      <td>(+/-5,922)</td>\n",
       "      <td>23,517</td>\n",
       "      <td>(+/-1,122)</td>\n",
       "      <td>54,328</td>\n",
       "      <td>(+/-1,464)</td>\n",
       "      <td>1,501</td>\n",
       "      <td>(+/-427)</td>\n",
       "      <td>37,527</td>\n",
       "      <td>(+/-2,131)</td>\n",
       "      <td>50,474</td>\n",
       "      <td>(+/-2,500)</td>\n",
       "      <td>140,610</td>\n",
       "      <td>(+/-2,292)</td>\n",
       "    </tr>\n",
       "    <tr>\n",
       "      <th>3</th>\n",
       "      <td>Moved within same county</td>\n",
       "      <td>385,997</td>\n",
       "      <td>209,405</td>\n",
       "      <td>(+/-5,819)</td>\n",
       "      <td>155,963</td>\n",
       "      <td>(+/-4,914)</td>\n",
       "      <td>2,532</td>\n",
       "      <td>(+/-581)</td>\n",
       "      <td>6,087</td>\n",
       "      <td>(+/-912)</td>\n",
       "      <td>35</td>\n",
       "      <td>(+/-33)</td>\n",
       "      <td>5,053</td>\n",
       "      <td>(+/-924)</td>\n",
       "      <td>6,922</td>\n",
       "      <td>(+/-916)</td>\n",
       "      <td>17,425</td>\n",
       "      <td>(+/-1,776)</td>\n",
       "    </tr>\n",
       "    <tr>\n",
       "      <th>4</th>\n",
       "      <td>Moved to different county within same state</td>\n",
       "      <td>151,940</td>\n",
       "      <td>91,969</td>\n",
       "      <td>(+/-3,278)</td>\n",
       "      <td>51,898</td>\n",
       "      <td>(+/-2,410)</td>\n",
       "      <td>997</td>\n",
       "      <td>(+/-255)</td>\n",
       "      <td>2,527</td>\n",
       "      <td>(+/-498)</td>\n",
       "      <td>5</td>\n",
       "      <td>(+/-9)</td>\n",
       "      <td>1,803</td>\n",
       "      <td>(+/-467)</td>\n",
       "      <td>2,741</td>\n",
       "      <td>(+/-482)</td>\n",
       "      <td>6,216</td>\n",
       "      <td>(+/-727)</td>\n",
       "    </tr>\n",
       "  </tbody>\n",
       "</table>\n",
       "</div>"
      ],
      "text/plain": [
       "                                      Category        ���.1      White  \\\n",
       "0                                            ���   Estimate   Estimate   \n",
       "1             Total living in area 1 year ago:  4,398,514  2,794,622   \n",
       "2                                   Same house  3,763,511  2,430,906   \n",
       "3                     Moved within same county    385,997    209,405   \n",
       "4  Moved to different county within same state    151,940     91,969   \n",
       "\n",
       "        Unnamed: 3 Black or African American       Unnamed: 5  \\\n",
       "0  Margin of Error                  Estimate  Margin of Error   \n",
       "1       (+/-5,059)                 1,400,504       (+/-3,726)   \n",
       "2       (+/-7,919)                 1,165,258       (+/-5,922)   \n",
       "3       (+/-5,819)                   155,963       (+/-4,914)   \n",
       "4       (+/-3,278)                    51,898       (+/-2,410)   \n",
       "\n",
       "  American Indian and Alaska Native       Unnamed: 7     Asian  \\\n",
       "0                          Estimate  Margin of Error  Estimate   \n",
       "1                            27,695       (+/-1,203)    65,210   \n",
       "2                            23,517       (+/-1,122)    54,328   \n",
       "3                             2,532         (+/-581)     6,087   \n",
       "4                               997         (+/-255)     2,527   \n",
       "\n",
       "        Unnamed: 9 Native Hawaiian and Other Pacific Islander  \\\n",
       "0  Margin of Error                                   Estimate   \n",
       "1       (+/-1,184)                                      1,665   \n",
       "2       (+/-1,464)                                      1,501   \n",
       "3         (+/-912)                                         35   \n",
       "4         (+/-498)                                          5   \n",
       "\n",
       "       Unnamed: 11 Some Other Race      Unnamed: 13       ���.2  \\\n",
       "0  Margin of Error        Estimate  Margin of Error  Estimate   \n",
       "1         (+/-440)          46,440       (+/-2,316)    62,378   \n",
       "2         (+/-427)          37,527       (+/-2,131)    50,474   \n",
       "3          (+/-33)           5,053         (+/-924)     6,922   \n",
       "4           (+/-9)           1,803         (+/-467)     2,741   \n",
       "\n",
       "       Unnamed: 15 Hispanic or Latino (any race)      Unnamed: 17  \n",
       "0  Margin of Error                      Estimate  Margin of Error  \n",
       "1       (+/-2,950)                       171,643       (+/-1,781)  \n",
       "2       (+/-2,500)                       140,610       (+/-2,292)  \n",
       "3         (+/-916)                        17,425       (+/-1,776)  \n",
       "4         (+/-482)                         6,216         (+/-727)  "
      ]
     },
     "execution_count": 6,
     "metadata": {},
     "output_type": "execute_result"
    }
   ],
   "source": [
    "db.head()"
   ]
  },
  {
   "cell_type": "code",
   "execution_count": 7,
   "metadata": {
    "collapsed": false
   },
   "outputs": [],
   "source": [
    "db2 = db[[\"Category\", \"White\", \"Black or African American\", \"American Indian and Alaska Native\"]]"
   ]
  },
  {
   "cell_type": "code",
   "execution_count": 8,
   "metadata": {
    "collapsed": false
   },
   "outputs": [
    {
     "data": {
      "text/html": [
       "<div style=\"max-height:1000px;max-width:1500px;overflow:auto;\">\n",
       "<table border=\"1\" class=\"dataframe\">\n",
       "  <thead>\n",
       "    <tr style=\"text-align: right;\">\n",
       "      <th></th>\n",
       "      <th>Category</th>\n",
       "      <th>White</th>\n",
       "      <th>Black or African American</th>\n",
       "      <th>American Indian and Alaska Native</th>\n",
       "    </tr>\n",
       "  </thead>\n",
       "  <tbody>\n",
       "    <tr>\n",
       "      <th>0</th>\n",
       "      <td>�</td>\n",
       "      <td>Estimate</td>\n",
       "      <td>Estimate</td>\n",
       "      <td>Estimate</td>\n",
       "    </tr>\n",
       "    <tr>\n",
       "      <th>1</th>\n",
       "      <td>Total living in area 1 year ago:</td>\n",
       "      <td>2,794,622</td>\n",
       "      <td>1,400,504</td>\n",
       "      <td>27,695</td>\n",
       "    </tr>\n",
       "    <tr>\n",
       "      <th>2</th>\n",
       "      <td>Same house</td>\n",
       "      <td>2,430,906</td>\n",
       "      <td>1,165,258</td>\n",
       "      <td>23,517</td>\n",
       "    </tr>\n",
       "    <tr>\n",
       "      <th>3</th>\n",
       "      <td>Moved within same county</td>\n",
       "      <td>209,405</td>\n",
       "      <td>155,963</td>\n",
       "      <td>2,532</td>\n",
       "    </tr>\n",
       "    <tr>\n",
       "      <th>4</th>\n",
       "      <td>Moved to different county within same state</td>\n",
       "      <td>91,969</td>\n",
       "      <td>51,898</td>\n",
       "      <td>997</td>\n",
       "    </tr>\n",
       "    <tr>\n",
       "      <th>5</th>\n",
       "      <td>Moved to different state</td>\n",
       "      <td>62,342</td>\n",
       "      <td>27,385</td>\n",
       "      <td>649</td>\n",
       "    </tr>\n",
       "    <tr>\n",
       "      <th>6</th>\n",
       "      <td>�</td>\n",
       "      <td>NaN</td>\n",
       "      <td>NaN</td>\n",
       "      <td>NaN</td>\n",
       "    </tr>\n",
       "    <tr>\n",
       "      <th>7</th>\n",
       "      <td>NaN</td>\n",
       "      <td>NaN</td>\n",
       "      <td>NaN</td>\n",
       "      <td>NaN</td>\n",
       "    </tr>\n",
       "  </tbody>\n",
       "</table>\n",
       "</div>"
      ],
      "text/plain": [
       "                                      Category      White  \\\n",
       "0                                            ���   Estimate   \n",
       "1             Total living in area 1 year ago:  2,794,622   \n",
       "2                                   Same house  2,430,906   \n",
       "3                     Moved within same county    209,405   \n",
       "4  Moved to different county within same state     91,969   \n",
       "5                     Moved to different state     62,342   \n",
       "6                                            ���        NaN   \n",
       "7                                          NaN        NaN   \n",
       "\n",
       "  Black or African American American Indian and Alaska Native  \n",
       "0                  Estimate                          Estimate  \n",
       "1                 1,400,504                            27,695  \n",
       "2                 1,165,258                            23,517  \n",
       "3                   155,963                             2,532  \n",
       "4                    51,898                               997  \n",
       "5                    27,385                               649  \n",
       "6                       NaN                               NaN  \n",
       "7                       NaN                               NaN  "
      ]
     },
     "execution_count": 8,
     "metadata": {},
     "output_type": "execute_result"
    }
   ],
   "source": [
    "db2"
   ]
  },
  {
   "cell_type": "code",
   "execution_count": 9,
   "metadata": {
    "collapsed": false
   },
   "outputs": [
    {
     "data": {
      "text/html": [
       "<div style=\"max-height:1000px;max-width:1500px;overflow:auto;\">\n",
       "<table border=\"1\" class=\"dataframe\">\n",
       "  <thead>\n",
       "    <tr style=\"text-align: right;\">\n",
       "      <th></th>\n",
       "      <th>Category</th>\n",
       "      <th>White</th>\n",
       "      <th>Black or African American</th>\n",
       "      <th>American Indian and Alaska Native</th>\n",
       "    </tr>\n",
       "  </thead>\n",
       "  <tbody>\n",
       "    <tr>\n",
       "      <th>1</th>\n",
       "      <td>Total living in area 1 year ago:</td>\n",
       "      <td>2,794,622</td>\n",
       "      <td>1,400,504</td>\n",
       "      <td>27,695</td>\n",
       "    </tr>\n",
       "    <tr>\n",
       "      <th>5</th>\n",
       "      <td>Moved to different state</td>\n",
       "      <td>62,342</td>\n",
       "      <td>27,385</td>\n",
       "      <td>649</td>\n",
       "    </tr>\n",
       "  </tbody>\n",
       "</table>\n",
       "</div>"
      ],
      "text/plain": [
       "                           Category      White Black or African American  \\\n",
       "1  Total living in area 1 year ago:  2,794,622                 1,400,504   \n",
       "5          Moved to different state     62,342                    27,385   \n",
       "\n",
       "  American Indian and Alaska Native  \n",
       "1                            27,695  \n",
       "5                               649  "
      ]
     },
     "execution_count": 9,
     "metadata": {},
     "output_type": "execute_result"
    }
   ],
   "source": [
    "db2.ix[[1, 5], :]"
   ]
  },
  {
   "cell_type": "code",
   "execution_count": 10,
   "metadata": {
    "collapsed": true
   },
   "outputs": [],
   "source": [
    "db3 = db2.ix[[1, 5], :]"
   ]
  },
  {
   "cell_type": "code",
   "execution_count": 11,
   "metadata": {
    "collapsed": false
   },
   "outputs": [
    {
     "data": {
      "text/html": [
       "<div style=\"max-height:1000px;max-width:1500px;overflow:auto;\">\n",
       "<table border=\"1\" class=\"dataframe\">\n",
       "  <thead>\n",
       "    <tr style=\"text-align: right;\">\n",
       "      <th></th>\n",
       "      <th>Category</th>\n",
       "      <th>White</th>\n",
       "      <th>Black or African American</th>\n",
       "      <th>American Indian and Alaska Native</th>\n",
       "    </tr>\n",
       "  </thead>\n",
       "  <tbody>\n",
       "    <tr>\n",
       "      <th>1</th>\n",
       "      <td>Total living in area 1 year ago:</td>\n",
       "      <td>2,794,622</td>\n",
       "      <td>1,400,504</td>\n",
       "      <td>27,695</td>\n",
       "    </tr>\n",
       "    <tr>\n",
       "      <th>5</th>\n",
       "      <td>Moved to different state</td>\n",
       "      <td>62,342</td>\n",
       "      <td>27,385</td>\n",
       "      <td>649</td>\n",
       "    </tr>\n",
       "  </tbody>\n",
       "</table>\n",
       "</div>"
      ],
      "text/plain": [
       "                           Category      White Black or African American  \\\n",
       "1  Total living in area 1 year ago:  2,794,622                 1,400,504   \n",
       "5          Moved to different state     62,342                    27,385   \n",
       "\n",
       "  American Indian and Alaska Native  \n",
       "1                            27,695  \n",
       "5                               649  "
      ]
     },
     "execution_count": 11,
     "metadata": {},
     "output_type": "execute_result"
    }
   ],
   "source": [
    "db3"
   ]
  },
  {
   "cell_type": "code",
   "execution_count": 12,
   "metadata": {
    "collapsed": true
   },
   "outputs": [],
   "source": [
    "# define percentage function\n",
    "def pct(a, b):\n",
    "    return a/float(b)"
   ]
  },
  {
   "cell_type": "code",
   "execution_count": 21,
   "metadata": {
    "collapsed": false
   },
   "outputs": [
    {
     "data": {
      "text/plain": [
       "'27,385'"
      ]
     },
     "execution_count": 21,
     "metadata": {},
     "output_type": "execute_result"
    }
   ],
   "source": [
    "db3.iat[1, 2]"
   ]
  },
  {
   "cell_type": "code",
   "execution_count": 25,
   "metadata": {
    "collapsed": false
   },
   "outputs": [
    {
     "data": {
      "text/plain": [
       "'27385'"
      ]
     },
     "execution_count": 25,
     "metadata": {},
     "output_type": "execute_result"
    }
   ],
   "source": [
    "db3.iat[1, 2].replace(',', '')"
   ]
  },
  {
   "cell_type": "code",
   "execution_count": 28,
   "metadata": {
    "collapsed": true
   },
   "outputs": [],
   "source": [
    "# define percentage function (with replace)\n",
    "def pct(a, b):\n",
    "    return float(a.replace(',', ''))/float(b.replace(',', ''))"
   ]
  },
  {
   "cell_type": "code",
   "execution_count": 29,
   "metadata": {
    "collapsed": false
   },
   "outputs": [
    {
     "data": {
      "text/plain": [
       "42.195685670261945"
      ]
     },
     "execution_count": 29,
     "metadata": {},
     "output_type": "execute_result"
    }
   ],
   "source": [
    "pct(db3.iat[1,2], db3.iat[1,3])"
   ]
  },
  {
   "cell_type": "code",
   "execution_count": 48,
   "metadata": {
    "collapsed": false
   },
   "outputs": [],
   "source": [
    "percentages = []\n",
    "percentages.append('Percentage Moved')\n",
    "for i in range(1, 4):\n",
    "    percentages.append(pct(db3.iat[1,i], db3.iat[0,i]))"
   ]
  },
  {
   "cell_type": "code",
   "execution_count": 49,
   "metadata": {
    "collapsed": false
   },
   "outputs": [
    {
     "data": {
      "text/plain": [
       "['Percentage Moved',\n",
       " 0.02230784700041723,\n",
       " 0.019553674962727703,\n",
       " 0.02343383282180899]"
      ]
     },
     "execution_count": 49,
     "metadata": {},
     "output_type": "execute_result"
    }
   ],
   "source": [
    "percentages"
   ]
  },
  {
   "cell_type": "code",
   "execution_count": 64,
   "metadata": {
    "collapsed": false
   },
   "outputs": [
    {
     "data": {
      "text/plain": [
       "['Category',\n",
       " 'White',\n",
       " 'Black or African American',\n",
       " 'American Indian and Alaska Native']"
      ]
     },
     "execution_count": 64,
     "metadata": {},
     "output_type": "execute_result"
    }
   ],
   "source": [
    "# get column names\n",
    "list(db3.columns)"
   ]
  },
  {
   "cell_type": "code",
   "execution_count": 61,
   "metadata": {
    "collapsed": false
   },
   "outputs": [],
   "source": [
    "# convert percentages to columns names\n",
    "percentages = pd.DataFrame(percentages)"
   ]
  },
  {
   "cell_type": "code",
   "execution_count": 70,
   "metadata": {
    "collapsed": false
   },
   "outputs": [],
   "source": [
    "# transpose percentages\n",
    "percentages = percentages.T"
   ]
  },
  {
   "cell_type": "code",
   "execution_count": 73,
   "metadata": {
    "collapsed": false
   },
   "outputs": [],
   "source": [
    "percentages.columns = list(db3.columns)"
   ]
  },
  {
   "cell_type": "code",
   "execution_count": 75,
   "metadata": {
    "collapsed": false
   },
   "outputs": [
    {
     "data": {
      "text/html": [
       "<div style=\"max-height:1000px;max-width:1500px;overflow:auto;\">\n",
       "<table border=\"1\" class=\"dataframe\">\n",
       "  <thead>\n",
       "    <tr style=\"text-align: right;\">\n",
       "      <th></th>\n",
       "      <th>Category</th>\n",
       "      <th>White</th>\n",
       "      <th>Black or African American</th>\n",
       "      <th>American Indian and Alaska Native</th>\n",
       "    </tr>\n",
       "  </thead>\n",
       "  <tbody>\n",
       "    <tr>\n",
       "      <th>1</th>\n",
       "      <td>Total living in area 1 year ago:</td>\n",
       "      <td>2,794,622</td>\n",
       "      <td>1,400,504</td>\n",
       "      <td>27,695</td>\n",
       "    </tr>\n",
       "    <tr>\n",
       "      <th>5</th>\n",
       "      <td>Moved to different state</td>\n",
       "      <td>62,342</td>\n",
       "      <td>27,385</td>\n",
       "      <td>649</td>\n",
       "    </tr>\n",
       "    <tr>\n",
       "      <th>0</th>\n",
       "      <td>Percentage Moved</td>\n",
       "      <td>0.02230785</td>\n",
       "      <td>0.01955367</td>\n",
       "      <td>0.02343383</td>\n",
       "    </tr>\n",
       "  </tbody>\n",
       "</table>\n",
       "</div>"
      ],
      "text/plain": [
       "                           Category       White Black or African American  \\\n",
       "1  Total living in area 1 year ago:   2,794,622                 1,400,504   \n",
       "5          Moved to different state      62,342                    27,385   \n",
       "0                  Percentage Moved  0.02230785                0.01955367   \n",
       "\n",
       "  American Indian and Alaska Native  \n",
       "1                            27,695  \n",
       "5                               649  \n",
       "0                        0.02343383  "
      ]
     },
     "execution_count": 75,
     "metadata": {},
     "output_type": "execute_result"
    }
   ],
   "source": [
    "db3.append(percentages)"
   ]
  },
  {
   "cell_type": "code",
   "execution_count": null,
   "metadata": {
    "collapsed": true
   },
   "outputs": [],
   "source": []
  }
 ],
 "metadata": {
  "kernelspec": {
   "display_name": "Python 2",
   "language": "python",
   "name": "python2"
  },
  "language_info": {
   "codemirror_mode": {
    "name": "ipython",
    "version": 2
   },
   "file_extension": ".py",
   "mimetype": "text/x-python",
   "name": "python",
   "nbconvert_exporter": "python",
   "pygments_lexer": "ipython2",
   "version": "2.7.6"
  }
 },
 "nbformat": 4,
 "nbformat_minor": 0
}
