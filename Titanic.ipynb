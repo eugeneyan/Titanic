{
 "cells": [
  {
   "cell_type": "code",
   "execution_count": 22,
   "metadata": {
    "collapsed": false
   },
   "outputs": [
    {
     "data": {
      "text/plain": [
       "array([['1', '0', '3', 'Braund, Mr. Owen Harris', 'male', '22', '1', '0',\n",
       "        'A/5 21171', '7.25', '', 'S'],\n",
       "       ['2', '1', '1',\n",
       "        'Cumings, Mrs. John Bradley (Florence Briggs Thayer)', 'female',\n",
       "        '38', '1', '0', 'PC 17599', '71.2833', 'C85', 'C'],\n",
       "       ['3', '1', '3', 'Heikkinen, Miss. Laina', 'female', '26', '0', '0',\n",
       "        'STON/O2. 3101282', '7.925', '', 'S'],\n",
       "       ['4', '1', '1', 'Futrelle, Mrs. Jacques Heath (Lily May Peel)',\n",
       "        'female', '35', '1', '0', '113803', '53.1', 'C123', 'S'],\n",
       "       ['5', '0', '3', 'Allen, Mr. William Henry', 'male', '35', '0', '0',\n",
       "        '373450', '8.05', '', 'S']], \n",
       "      dtype='|S82')"
      ]
     },
     "execution_count": 22,
     "metadata": {},
     "output_type": "execute_result"
    }
   ],
   "source": [
    "# import necessary libraries\n",
    "import csv as csv\n",
    "import numpy as np\n",
    "import os as os\n",
    "import pandas as pd\n",
    "\n",
    "# see working directory\n",
    "os.getcwd()\n",
    "\n",
    "# open up the csv file into a .py object\n",
    "csv_data = csv.reader(open('train.csv', 'rb'))\n",
    "header = csv_data.next()\n",
    "\n",
    "# create a variable 'train'\n",
    "train = []\n",
    "for row in csv_data:\n",
    "    train.append(row)\n",
    "train = np.array(train)\n",
    "\n",
    "# view top 5 rows of data\n",
    "train[:5]"
   ]
  },
  {
   "cell_type": "code",
   "execution_count": null,
   "metadata": {
    "collapsed": true
   },
   "outputs": [],
   "source": []
  },
  {
   "cell_type": "code",
   "execution_count": null,
   "metadata": {
    "collapsed": true
   },
   "outputs": [],
   "source": []
  },
  {
   "cell_type": "code",
   "execution_count": null,
   "metadata": {
    "collapsed": true
   },
   "outputs": [],
   "source": []
  },
  {
   "cell_type": "code",
   "execution_count": null,
   "metadata": {
    "collapsed": true
   },
   "outputs": [],
   "source": []
  },
  {
   "cell_type": "code",
   "execution_count": null,
   "metadata": {
    "collapsed": true
   },
   "outputs": [],
   "source": []
  }
 ],
 "metadata": {
  "kernelspec": {
   "display_name": "Python 2",
   "language": "python",
   "name": "python2"
  },
  "language_info": {
   "codemirror_mode": {
    "name": "ipython",
    "version": 2
   },
   "file_extension": ".py",
   "mimetype": "text/x-python",
   "name": "python",
   "nbconvert_exporter": "python",
   "pygments_lexer": "ipython2",
   "version": "2.7.6"
  }
 },
 "nbformat": 4,
 "nbformat_minor": 0
}
