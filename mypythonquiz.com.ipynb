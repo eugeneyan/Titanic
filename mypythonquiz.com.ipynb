{
 "cells": [
  {
   "cell_type": "code",
   "execution_count": 22,
   "metadata": {
    "collapsed": false
   },
   "outputs": [
    {
     "name": "stdout",
     "output_type": "stream",
     "text": [
      "True\n"
     ]
    }
   ],
   "source": [
    "x = True\n",
    "y = False\n",
    "z = False\n",
    "\n",
    "print (not x or y or not y and x)"
   ]
  },
  {
   "cell_type": "code",
   "execution_count": 23,
   "metadata": {
    "collapsed": false
   },
   "outputs": [
    {
     "name": "stdout",
     "output_type": "stream",
     "text": [
      "Help on built-in function filter in module __builtin__:\n",
      "\n",
      "filter(...)\n",
      "    filter(function or None, sequence) -> list, tuple, or string\n",
      "    \n",
      "    Return those items of sequence for which function(item) is true.  If\n",
      "    function is None, return the items that are true.  If sequence is a tuple\n",
      "    or string, return the same type, else return a list.\n",
      "\n"
     ]
    }
   ],
   "source": [
    "help(filter)"
   ]
  },
  {
   "cell_type": "code",
   "execution_count": 24,
   "metadata": {
    "collapsed": false
   },
   "outputs": [
    {
     "name": "stdout",
     "output_type": "stream",
     "text": [
      "Help on built-in function map in module __builtin__:\n",
      "\n",
      "map(...)\n",
      "    map(function, sequence[, sequence, ...]) -> list\n",
      "    \n",
      "    Return a list of the results of applying the function to the items of\n",
      "    the argument sequence(s).  If more than one sequence is given, the\n",
      "    function is called with an argument list consisting of the corresponding\n",
      "    item of each sequence, substituting None for missing values when not all\n",
      "    sequences have the same length.  If the function is None, return a list of\n",
      "    the items of the sequence (or a list of tuples if more than one sequence).\n",
      "\n"
     ]
    }
   ],
   "source": [
    "help(map)"
   ]
  },
  {
   "cell_type": "code",
   "execution_count": 25,
   "metadata": {
    "collapsed": true
   },
   "outputs": [],
   "source": [
    "import pickle"
   ]
  },
  {
   "cell_type": "code",
   "execution_count": 26,
   "metadata": {
    "collapsed": true
   },
   "outputs": [
    {
     "name": "stdout",
     "output_type": "stream",
     "text": [
      "Help on module pickle:\n",
      "\n",
      "NAME\n",
      "    pickle - Create portable serialized representations of Python objects.\n",
      "\n",
      "FILE\n",
      "    c:\\python27\\lib\\pickle.py\n",
      "\n",
      "DESCRIPTION\n",
      "    See module cPickle for a (much) faster implementation.\n",
      "    See module copy_reg for a mechanism for registering custom picklers.\n",
      "    See module pickletools source for extensive comments.\n",
      "    \n",
      "    Classes:\n",
      "    \n",
      "        Pickler\n",
      "        Unpickler\n",
      "    \n",
      "    Functions:\n",
      "    \n",
      "        dump(object, file)\n",
      "        dumps(object) -> string\n",
      "        load(file) -> object\n",
      "        loads(string) -> object\n",
      "    \n",
      "    Misc variables:\n",
      "    \n",
      "        __version__\n",
      "        format_version\n",
      "        compatible_formats\n",
      "\n",
      "CLASSES\n",
      "    exceptions.Exception(exceptions.BaseException)\n",
      "        PickleError\n",
      "            PicklingError\n",
      "            UnpicklingError\n",
      "    Pickler\n",
      "    Unpickler\n",
      "    \n",
      "    class PickleError(exceptions.Exception)\n",
      "     |  A common base class for the other pickling exceptions.\n",
      "     |  \n",
      "     |  Method resolution order:\n",
      "     |      PickleError\n",
      "     |      exceptions.Exception\n",
      "     |      exceptions.BaseException\n",
      "     |      __builtin__.object\n",
      "     |  \n",
      "     |  Data descriptors defined here:\n",
      "     |  \n",
      "     |  __weakref__\n",
      "     |      list of weak references to the object (if defined)\n",
      "     |  \n",
      "     |  ----------------------------------------------------------------------\n",
      "     |  Methods inherited from exceptions.Exception:\n",
      "     |  \n",
      "     |  __init__(...)\n",
      "     |      x.__init__(...) initializes x; see help(type(x)) for signature\n",
      "     |  \n",
      "     |  ----------------------------------------------------------------------\n",
      "     |  Data and other attributes inherited from exceptions.Exception:\n",
      "     |  \n",
      "     |  __new__ = <built-in method __new__ of type object>\n",
      "     |      T.__new__(S, ...) -> a new object with type S, a subtype of T\n",
      "     |  \n",
      "     |  ----------------------------------------------------------------------\n",
      "     |  Methods inherited from exceptions.BaseException:\n",
      "     |  \n",
      "     |  __delattr__(...)\n",
      "     |      x.__delattr__('name') <==> del x.name\n",
      "     |  \n",
      "     |  __getattribute__(...)\n",
      "     |      x.__getattribute__('name') <==> x.name\n",
      "     |  \n",
      "     |  __getitem__(...)\n",
      "     |      x.__getitem__(y) <==> x[y]\n",
      "     |  \n",
      "     |  __getslice__(...)\n",
      "     |      x.__getslice__(i, j) <==> x[i:j]\n",
      "     |      \n",
      "     |      Use of negative indices is not supported.\n",
      "     |  \n",
      "     |  __reduce__(...)\n",
      "     |  \n",
      "     |  __repr__(...)\n",
      "     |      x.__repr__() <==> repr(x)\n",
      "     |  \n",
      "     |  __setattr__(...)\n",
      "     |      x.__setattr__('name', value) <==> x.name = value\n",
      "     |  \n",
      "     |  __setstate__(...)\n",
      "     |  \n",
      "     |  __str__(...)\n",
      "     |      x.__str__() <==> str(x)\n",
      "     |  \n",
      "     |  __unicode__(...)\n",
      "     |  \n",
      "     |  ----------------------------------------------------------------------\n",
      "     |  Data descriptors inherited from exceptions.BaseException:\n",
      "     |  \n",
      "     |  __dict__\n",
      "     |  \n",
      "     |  args\n",
      "     |  \n",
      "     |  message\n",
      "    \n",
      "    class Pickler\n",
      "     |  Methods defined here:\n",
      "     |  \n",
      "     |  __init__(self, file, protocol=None)\n",
      "     |      This takes a file-like object for writing a pickle data stream.\n",
      "     |      \n",
      "     |      The optional protocol argument tells the pickler to use the\n",
      "     |      given protocol; supported protocols are 0, 1, 2.  The default\n",
      "     |      protocol is 0, to be backwards compatible.  (Protocol 0 is the\n",
      "     |      only protocol that can be written to a file opened in text\n",
      "     |      mode and read back successfully.  When using a protocol higher\n",
      "     |      than 0, make sure the file is opened in binary mode, both when\n",
      "     |      pickling and unpickling.)\n",
      "     |      \n",
      "     |      Protocol 1 is more efficient than protocol 0; protocol 2 is\n",
      "     |      more efficient than protocol 1.\n",
      "     |      \n",
      "     |      Specifying a negative protocol version selects the highest\n",
      "     |      protocol version supported.  The higher the protocol used, the\n",
      "     |      more recent the version of Python needed to read the pickle\n",
      "     |      produced.\n",
      "     |      \n",
      "     |      The file parameter must have a write() method that accepts a single\n",
      "     |      string argument.  It can thus be an open file object, a StringIO\n",
      "     |      object, or any other custom object that meets this interface.\n",
      "     |  \n",
      "     |  clear_memo(self)\n",
      "     |      Clears the pickler's \"memo\".\n",
      "     |      \n",
      "     |      The memo is the data structure that remembers which objects the\n",
      "     |      pickler has already seen, so that shared or recursive objects are\n",
      "     |      pickled by reference and not by value.  This method is useful when\n",
      "     |      re-using picklers.\n",
      "     |  \n",
      "     |  dump(self, obj)\n",
      "     |      Write a pickled representation of obj to the open file.\n",
      "     |  \n",
      "     |  get(self, i, pack=<built-in function pack>)\n",
      "     |      # Return a GET (BINGET, LONG_BINGET) opcode string, with argument i.\n",
      "     |  \n",
      "     |  memoize(self, obj)\n",
      "     |      Store an object in the memo.\n",
      "     |  \n",
      "     |  persistent_id(self, obj)\n",
      "     |  \n",
      "     |  put(self, i, pack=<built-in function pack>)\n",
      "     |      # Return a PUT (BINPUT, LONG_BINPUT) opcode string, with argument i.\n",
      "     |  \n",
      "     |  save(self, obj)\n",
      "     |  \n",
      "     |  save_bool(self, obj)\n",
      "     |  \n",
      "     |  save_dict(self, obj)\n",
      "     |  \n",
      "     |  save_empty_tuple(self, obj)\n",
      "     |      # save_empty_tuple() isn't used by anything in Python 2.3.  However, I\n",
      "     |      # found a Pickler subclass in Zope3 that calls it, so it's not harmless\n",
      "     |      # to remove it.\n",
      "     |  \n",
      "     |  save_float(self, obj, pack=<built-in function pack>)\n",
      "     |  \n",
      "     |  save_global(self, obj, name=None, pack=<built-in function pack>)\n",
      "     |  \n",
      "     |  save_inst(self, obj)\n",
      "     |  \n",
      "     |  save_int(self, obj, pack=<built-in function pack>)\n",
      "     |  \n",
      "     |  save_list(self, obj)\n",
      "     |  \n",
      "     |  save_long(self, obj, pack=<built-in function pack>)\n",
      "     |  \n",
      "     |  save_none(self, obj)\n",
      "     |  \n",
      "     |  save_pers(self, pid)\n",
      "     |  \n",
      "     |  save_reduce(self, func, args, state=None, listitems=None, dictitems=None, obj=None)\n",
      "     |  \n",
      "     |  save_string(self, obj, pack=<built-in function pack>)\n",
      "     |  \n",
      "     |  save_tuple(self, obj)\n",
      "     |  \n",
      "     |  save_unicode(self, obj, pack=<built-in function pack>)\n",
      "     |  \n",
      "     |  ----------------------------------------------------------------------\n",
      "     |  Data and other attributes defined here:\n",
      "     |  \n",
      "     |  dispatch = {<type 'bool'>: <function save_bool>, <type 'classobj'>: <f...\n",
      "    \n",
      "    class PicklingError(PickleError)\n",
      "     |  This exception is raised when an unpicklable object is passed to the\n",
      "     |  dump() method.\n",
      "     |  \n",
      "     |  Method resolution order:\n",
      "     |      PicklingError\n",
      "     |      PickleError\n",
      "     |      exceptions.Exception\n",
      "     |      exceptions.BaseException\n",
      "     |      __builtin__.object\n",
      "     |  \n",
      "     |  Data descriptors inherited from PickleError:\n",
      "     |  \n",
      "     |  __weakref__\n",
      "     |      list of weak references to the object (if defined)\n",
      "     |  \n",
      "     |  ----------------------------------------------------------------------\n",
      "     |  Methods inherited from exceptions.Exception:\n",
      "     |  \n",
      "     |  __init__(...)\n",
      "     |      x.__init__(...) initializes x; see help(type(x)) for signature\n",
      "     |  \n",
      "     |  ----------------------------------------------------------------------\n",
      "     |  Data and other attributes inherited from exceptions.Exception:\n",
      "     |  \n",
      "     |  __new__ = <built-in method __new__ of type object>\n",
      "     |      T.__new__(S, ...) -> a new object with type S, a subtype of T\n",
      "     |  \n",
      "     |  ----------------------------------------------------------------------\n",
      "     |  Methods inherited from exceptions.BaseException:\n",
      "     |  \n",
      "     |  __delattr__(...)\n",
      "     |      x.__delattr__('name') <==> del x.name\n",
      "     |  \n",
      "     |  __getattribute__(...)\n",
      "     |      x.__getattribute__('name') <==> x.name\n",
      "     |  \n",
      "     |  __getitem__(...)\n",
      "     |      x.__getitem__(y) <==> x[y]\n",
      "     |  \n",
      "     |  __getslice__(...)\n",
      "     |      x.__getslice__(i, j) <==> x[i:j]\n",
      "     |      \n",
      "     |      Use of negative indices is not supported.\n",
      "     |  \n",
      "     |  __reduce__(...)\n",
      "     |  \n",
      "     |  __repr__(...)\n",
      "     |      x.__repr__() <==> repr(x)\n",
      "     |  \n",
      "     |  __setattr__(...)\n",
      "     |      x.__setattr__('name', value) <==> x.name = value\n",
      "     |  \n",
      "     |  __setstate__(...)\n",
      "     |  \n",
      "     |  __str__(...)\n",
      "     |      x.__str__() <==> str(x)\n",
      "     |  \n",
      "     |  __unicode__(...)\n",
      "     |  \n",
      "     |  ----------------------------------------------------------------------\n",
      "     |  Data descriptors inherited from exceptions.BaseException:\n",
      "     |  \n",
      "     |  __dict__\n",
      "     |  \n",
      "     |  args\n",
      "     |  \n",
      "     |  message\n",
      "    \n",
      "    class Unpickler\n",
      "     |  Methods defined here:\n",
      "     |  \n",
      "     |  __init__(self, file)\n",
      "     |      This takes a file-like object for reading a pickle data stream.\n",
      "     |      \n",
      "     |      The protocol version of the pickle is detected automatically, so no\n",
      "     |      proto argument is needed.\n",
      "     |      \n",
      "     |      The file-like object must have two methods, a read() method that\n",
      "     |      takes an integer argument, and a readline() method that requires no\n",
      "     |      arguments.  Both methods should return a string.  Thus file-like\n",
      "     |      object can be a file object opened for reading, a StringIO object,\n",
      "     |      or any other custom object that meets this interface.\n",
      "     |  \n",
      "     |  find_class(self, module, name)\n",
      "     |  \n",
      "     |  get_extension(self, code)\n",
      "     |  \n",
      "     |  load(self)\n",
      "     |      Read a pickled object representation from the open file.\n",
      "     |      \n",
      "     |      Return the reconstituted object hierarchy specified in the file.\n",
      "     |  \n",
      "     |  load_append(self)\n",
      "     |  \n",
      "     |  load_appends(self)\n",
      "     |  \n",
      "     |  load_binfloat(self, unpack=<built-in function unpack>)\n",
      "     |  \n",
      "     |  load_binget(self)\n",
      "     |  \n",
      "     |  load_binint(self)\n",
      "     |  \n",
      "     |  load_binint1(self)\n",
      "     |  \n",
      "     |  load_binint2(self)\n",
      "     |  \n",
      "     |  load_binpersid(self)\n",
      "     |  \n",
      "     |  load_binput(self)\n",
      "     |  \n",
      "     |  load_binstring(self)\n",
      "     |  \n",
      "     |  load_binunicode(self)\n",
      "     |  \n",
      "     |  load_build(self)\n",
      "     |  \n",
      "     |  load_dict(self)\n",
      "     |  \n",
      "     |  load_dup(self)\n",
      "     |  \n",
      "     |  load_empty_dictionary(self)\n",
      "     |  \n",
      "     |  load_empty_list(self)\n",
      "     |  \n",
      "     |  load_empty_tuple(self)\n",
      "     |  \n",
      "     |  load_eof(self)\n",
      "     |  \n",
      "     |  load_ext1(self)\n",
      "     |  \n",
      "     |  load_ext2(self)\n",
      "     |  \n",
      "     |  load_ext4(self)\n",
      "     |  \n",
      "     |  load_false(self)\n",
      "     |  \n",
      "     |  load_float(self)\n",
      "     |  \n",
      "     |  load_get(self)\n",
      "     |  \n",
      "     |  load_global(self)\n",
      "     |  \n",
      "     |  load_inst(self)\n",
      "     |  \n",
      "     |  load_int(self)\n",
      "     |  \n",
      "     |  load_list(self)\n",
      "     |  \n",
      "     |  load_long(self)\n",
      "     |  \n",
      "     |  load_long1(self)\n",
      "     |  \n",
      "     |  load_long4(self)\n",
      "     |  \n",
      "     |  load_long_binget(self)\n",
      "     |  \n",
      "     |  load_long_binput(self)\n",
      "     |  \n",
      "     |  load_mark(self)\n",
      "     |  \n",
      "     |  load_newobj(self)\n",
      "     |  \n",
      "     |  load_none(self)\n",
      "     |  \n",
      "     |  load_obj(self)\n",
      "     |  \n",
      "     |  load_persid(self)\n",
      "     |  \n",
      "     |  load_pop(self)\n",
      "     |  \n",
      "     |  load_pop_mark(self)\n",
      "     |  \n",
      "     |  load_proto(self)\n",
      "     |  \n",
      "     |  load_put(self)\n",
      "     |  \n",
      "     |  load_reduce(self)\n",
      "     |  \n",
      "     |  load_setitem(self)\n",
      "     |  \n",
      "     |  load_setitems(self)\n",
      "     |  \n",
      "     |  load_short_binstring(self)\n",
      "     |  \n",
      "     |  load_stop(self)\n",
      "     |  \n",
      "     |  load_string(self)\n",
      "     |  \n",
      "     |  load_true(self)\n",
      "     |  \n",
      "     |  load_tuple(self)\n",
      "     |  \n",
      "     |  load_tuple1(self)\n",
      "     |  \n",
      "     |  load_tuple2(self)\n",
      "     |  \n",
      "     |  load_tuple3(self)\n",
      "     |  \n",
      "     |  load_unicode(self)\n",
      "     |  \n",
      "     |  marker(self)\n",
      "     |      # Return largest index k such that self.stack[k] is self.mark.\n",
      "     |      # If the stack doesn't contain a mark, eventually raises IndexError.\n",
      "     |      # This could be sped by maintaining another stack, of indices at which\n",
      "     |      # the mark appears.  For that matter, the latter stack would suffice,\n",
      "     |      # and we wouldn't need to push mark objects on self.stack at all.\n",
      "     |      # Doing so is probably a good thing, though, since if the pickle is\n",
      "     |      # corrupt (or hostile) we may get a clue from finding self.mark embedded\n",
      "     |      # in unpickled objects.\n",
      "     |  \n",
      "     |  ----------------------------------------------------------------------\n",
      "     |  Data and other attributes defined here:\n",
      "     |  \n",
      "     |  dispatch = {'': <function load_eof>, '(': <function load_mark>, ')': <...\n",
      "    \n",
      "    class UnpicklingError(PickleError)\n",
      "     |  This exception is raised when there is a problem unpickling an object,\n",
      "     |  such as a security violation.\n",
      "     |  \n",
      "     |  Note that other exceptions may also be raised during unpickling, including\n",
      "     |  (but not necessarily limited to) AttributeError, EOFError, ImportError,\n",
      "     |  and IndexError.\n",
      "     |  \n",
      "     |  Method resolution order:\n",
      "     |      UnpicklingError\n",
      "     |      PickleError\n",
      "     |      exceptions.Exception\n",
      "     |      exceptions.BaseException\n",
      "     |      __builtin__.object\n",
      "     |  \n",
      "     |  Data descriptors inherited from PickleError:\n",
      "     |  \n",
      "     |  __weakref__\n",
      "     |      list of weak references to the object (if defined)\n",
      "     |  \n",
      "     |  ----------------------------------------------------------------------\n",
      "     |  Methods inherited from exceptions.Exception:\n",
      "     |  \n",
      "     |  __init__(...)\n",
      "     |      x.__init__(...) initializes x; see help(type(x)) for signature\n",
      "     |  \n",
      "     |  ----------------------------------------------------------------------\n",
      "     |  Data and other attributes inherited from exceptions.Exception:\n",
      "     |  \n",
      "     |  __new__ = <built-in method __new__ of type object>\n",
      "     |      T.__new__(S, ...) -> a new object with type S, a subtype of T\n",
      "     |  \n",
      "     |  ----------------------------------------------------------------------\n",
      "     |  Methods inherited from exceptions.BaseException:\n",
      "     |  \n",
      "     |  __delattr__(...)\n",
      "     |      x.__delattr__('name') <==> del x.name\n",
      "     |  \n",
      "     |  __getattribute__(...)\n",
      "     |      x.__getattribute__('name') <==> x.name\n",
      "     |  \n",
      "     |  __getitem__(...)\n",
      "     |      x.__getitem__(y) <==> x[y]\n",
      "     |  \n",
      "     |  __getslice__(...)\n",
      "     |      x.__getslice__(i, j) <==> x[i:j]\n",
      "     |      \n",
      "     |      Use of negative indices is not supported.\n",
      "     |  \n",
      "     |  __reduce__(...)\n",
      "     |  \n",
      "     |  __repr__(...)\n",
      "     |      x.__repr__() <==> repr(x)\n",
      "     |  \n",
      "     |  __setattr__(...)\n",
      "     |      x.__setattr__('name', value) <==> x.name = value\n",
      "     |  \n",
      "     |  __setstate__(...)\n",
      "     |  \n",
      "     |  __str__(...)\n",
      "     |      x.__str__() <==> str(x)\n",
      "     |  \n",
      "     |  __unicode__(...)\n",
      "     |  \n",
      "     |  ----------------------------------------------------------------------\n",
      "     |  Data descriptors inherited from exceptions.BaseException:\n",
      "     |  \n",
      "     |  __dict__\n",
      "     |  \n",
      "     |  args\n",
      "     |  \n",
      "     |  message\n",
      "\n",
      "FUNCTIONS\n",
      "    dump(obj, file, protocol=None)\n",
      "    \n",
      "    dumps(obj, protocol=None)\n",
      "    \n",
      "    load(file)\n",
      "    \n",
      "    loads(str)\n",
      "\n",
      "DATA\n",
      "    APPEND = 'a'\n",
      "    APPENDS = 'e'\n",
      "    BINFLOAT = 'G'\n",
      "    BINGET = 'h'\n",
      "    BININT = 'J'\n",
      "    BININT1 = 'K'\n",
      "    BININT2 = 'M'\n",
      "    BINPERSID = 'Q'\n",
      "    BINPUT = 'q'\n",
      "    BINSTRING = 'T'\n",
      "    BINUNICODE = 'X'\n",
      "    BUILD = 'b'\n",
      "    DICT = 'd'\n",
      "    DUP = '2'\n",
      "    EMPTY_DICT = '}'\n",
      "    EMPTY_LIST = ']'\n",
      "    EMPTY_TUPLE = ')'\n",
      "    EXT1 = '\\x82'\n",
      "    EXT2 = '\\x83'\n",
      "    EXT4 = '\\x84'\n",
      "    FALSE = 'I00\\n'\n",
      "    FLOAT = 'F'\n",
      "    GET = 'g'\n",
      "    GLOBAL = 'c'\n",
      "    HIGHEST_PROTOCOL = 2\n",
      "    INST = 'i'\n",
      "    INT = 'I'\n",
      "    LIST = 'l'\n",
      "    LONG = 'L'\n",
      "    LONG1 = '\\x8a'\n",
      "    LONG4 = '\\x8b'\n",
      "    LONG_BINGET = 'j'\n",
      "    LONG_BINPUT = 'r'\n",
      "    MARK = '('\n",
      "    NEWFALSE = '\\x89'\n",
      "    NEWOBJ = '\\x81'\n",
      "    NEWTRUE = '\\x88'\n",
      "    NONE = 'N'\n",
      "    OBJ = 'o'\n",
      "    PERSID = 'P'\n",
      "    POP = '0'\n",
      "    POP_MARK = '1'\n",
      "    PROTO = '\\x80'\n",
      "    PUT = 'p'\n",
      "    REDUCE = 'R'\n",
      "    SETITEM = 's'\n",
      "    SETITEMS = 'u'\n",
      "    SHORT_BINSTRING = 'U'\n",
      "    STOP = '.'\n",
      "    STRING = 'S'\n",
      "    TRUE = 'I01\\n'\n",
      "    TUPLE = 't'\n",
      "    TUPLE1 = '\\x85'\n",
      "    TUPLE2 = '\\x86'\n",
      "    TUPLE3 = '\\x87'\n",
      "    UNICODE = 'V'\n",
      "    __all__ = ['PickleError', 'PicklingError', 'UnpicklingError', 'Pickler...\n",
      "    __version__ = '$Revision: 72223 $'\n",
      "\n",
      "VERSION\n",
      "    72223\n",
      "\n",
      "\n"
     ]
    }
   ],
   "source": [
    "help(pickle)"
   ]
  },
  {
   "cell_type": "code",
   "execution_count": 30,
   "metadata": {
    "collapsed": false
   },
   "outputs": [
    {
     "name": "stdout",
     "output_type": "stream",
     "text": [
      "13\n"
     ]
    }
   ],
   "source": [
    "import re\n",
    "sum = 0\n",
    "\n",
    "pattern = 'back'\n",
    "if re.match(pattern, 'backup.txt'):\n",
    "    sum += 1\n",
    "if re.match(pattern, 'text.back'):\n",
    "    sum += 2\n",
    "if re.search(pattern, 'backup.txt'):\n",
    "    sum += 4\n",
    "if re.search(pattern, 'text.back'):\n",
    "    sum += 8\n",
    "\n",
    "print sum"
   ]
  },
  {
   "cell_type": "code",
   "execution_count": 1,
   "metadata": {
    "collapsed": false
   },
   "outputs": [
    {
     "name": "stdout",
     "output_type": "stream",
     "text": [
      "4\n"
     ]
    }
   ],
   "source": [
    "confusion = {}\n",
    "confusion[1] = 1\n",
    "confusion['1'] = 2\n",
    "confusion[1] += 1\n",
    "\n",
    "sum = 0\n",
    "for k in confusion:\n",
    "    sum += confusion[k]\n",
    "\n",
    "print sum"
   ]
  },
  {
   "cell_type": "code",
   "execution_count": 2,
   "metadata": {
    "collapsed": false
   },
   "outputs": [
    {
     "data": {
      "text/plain": [
       "{1: 2, '1': 2}"
      ]
     },
     "execution_count": 2,
     "metadata": {},
     "output_type": "execute_result"
    }
   ],
   "source": [
    "confusion"
   ]
  },
  {
   "cell_type": "code",
   "execution_count": 3,
   "metadata": {
    "collapsed": false
   },
   "outputs": [
    {
     "data": {
      "text/plain": [
       "{1: '1', 2: '2', 3: '3'}"
      ]
     },
     "execution_count": 3,
     "metadata": {},
     "output_type": "execute_result"
    }
   ],
   "source": [
    "foo = {1:'1', 2:'2', 3:'3'}\n",
    "foo"
   ]
  },
  {
   "cell_type": "code",
   "execution_count": 4,
   "metadata": {
    "collapsed": true
   },
   "outputs": [],
   "source": [
    "foo.clear()"
   ]
  },
  {
   "cell_type": "code",
   "execution_count": 5,
   "metadata": {
    "collapsed": false
   },
   "outputs": [
    {
     "data": {
      "text/plain": [
       "{}"
      ]
     },
     "execution_count": 5,
     "metadata": {},
     "output_type": "execute_result"
    }
   ],
   "source": [
    "foo"
   ]
  },
  {
   "cell_type": "code",
   "execution_count": 6,
   "metadata": {
    "collapsed": true
   },
   "outputs": [],
   "source": [
    "names1 = ['Amir', 'Barry', 'Chales', 'Dao']"
   ]
  },
  {
   "cell_type": "code",
   "execution_count": 11,
   "metadata": {
    "collapsed": false
   },
   "outputs": [
    {
     "ename": "ValueError",
     "evalue": "'test' is not in list",
     "output_type": "error",
     "traceback": [
      "\u001b[1;31m---------------------------------------------------------------------------\u001b[0m",
      "\u001b[1;31mValueError\u001b[0m                                Traceback (most recent call last)",
      "\u001b[1;32m<ipython-input-11-7f5a6487a5e8>\u001b[0m in \u001b[0;36m<module>\u001b[1;34m()\u001b[0m\n\u001b[1;32m----> 1\u001b[1;33m \u001b[0mnames1\u001b[0m\u001b[1;33m.\u001b[0m\u001b[0mindex\u001b[0m\u001b[1;33m(\u001b[0m\u001b[1;34m'test'\u001b[0m\u001b[1;33m)\u001b[0m\u001b[1;33m\u001b[0m\u001b[0m\n\u001b[0m",
      "\u001b[1;31mValueError\u001b[0m: 'test' is not in list"
     ]
    }
   ],
   "source": [
    "names1.index('test')"
   ]
  },
  {
   "cell_type": "code",
   "execution_count": 21,
   "metadata": {
    "collapsed": true
   },
   "outputs": [],
   "source": [
    "a = 1\n",
    "b = 2\n",
    "a,b = b,a"
   ]
  },
  {
   "cell_type": "code",
   "execution_count": 25,
   "metadata": {
    "collapsed": false
   },
   "outputs": [
    {
     "name": "stdout",
     "output_type": "stream",
     "text": [
      "<type 'tuple'>\n"
     ]
    }
   ],
   "source": [
    "def dostuff(param1, *param2):\n",
    "   print type(param2)\n",
    "\n",
    "dostuff('apples', 'bananas', 'cherry', 'dates')"
   ]
  },
  {
   "cell_type": "code",
   "execution_count": 26,
   "metadata": {
    "collapsed": false
   },
   "outputs": [
    {
     "name": "stdout",
     "output_type": "stream",
     "text": [
      "<type 'dict'>\n"
     ]
    }
   ],
   "source": [
    "def dostuff(param1, **param2):\n",
    "   print type(param2)\n",
    "\n",
    "\n",
    "dostuff('capitals', Arizona='Phoenix',\n",
    "California='Sacramento', Texas='Austin')"
   ]
  },
  {
   "cell_type": "code",
   "execution_count": 27,
   "metadata": {
    "collapsed": true
   },
   "outputs": [],
   "source": [
    "class A:\n",
    "    def __init__(self, a, b, c):\n",
    "        self.x = a + b + c"
   ]
  },
  {
   "cell_type": "code",
   "execution_count": 28,
   "metadata": {
    "collapsed": true
   },
   "outputs": [],
   "source": [
    "a = A(1, 2, 3)"
   ]
  },
  {
   "cell_type": "code",
   "execution_count": 29,
   "metadata": {
    "collapsed": false
   },
   "outputs": [
    {
     "data": {
      "text/plain": [
       "<__main__.A instance at 0x033739E0>"
      ]
     },
     "execution_count": 29,
     "metadata": {},
     "output_type": "execute_result"
    }
   ],
   "source": [
    "a"
   ]
  },
  {
   "cell_type": "code",
   "execution_count": 30,
   "metadata": {
    "collapsed": false
   },
   "outputs": [
    {
     "data": {
      "text/plain": [
       "6"
      ]
     },
     "execution_count": 30,
     "metadata": {},
     "output_type": "execute_result"
    }
   ],
   "source": [
    "a.x"
   ]
  },
  {
   "cell_type": "code",
   "execution_count": 31,
   "metadata": {
    "collapsed": false
   },
   "outputs": [
    {
     "name": "stdout",
     "output_type": "stream",
     "text": [
      "Help on built-in function cmp in module __builtin__:\n",
      "\n",
      "cmp(...)\n",
      "    cmp(x, y) -> integer\n",
      "    \n",
      "    Return negative if x<y, zero if x==y, positive if x>y.\n",
      "\n"
     ]
    }
   ],
   "source": [
    "help(cmp)"
   ]
  },
  {
   "cell_type": "code",
   "execution_count": null,
   "metadata": {
    "collapsed": true
   },
   "outputs": [],
   "source": []
  }
 ],
 "metadata": {
  "kernelspec": {
   "display_name": "Python 2",
   "language": "python",
   "name": "python2"
  },
  "language_info": {
   "codemirror_mode": {
    "name": "ipython",
    "version": 2
   },
   "file_extension": ".py",
   "mimetype": "text/x-python",
   "name": "python",
   "nbconvert_exporter": "python",
   "pygments_lexer": "ipython2",
   "version": "2.7.9"
  }
 },
 "nbformat": 4,
 "nbformat_minor": 0
}
